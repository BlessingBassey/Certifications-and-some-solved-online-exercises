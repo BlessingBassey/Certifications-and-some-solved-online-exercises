{
 "cells": [
  {
   "cell_type": "code",
   "execution_count": 84,
   "metadata": {},
   "outputs": [
    {
     "name": "stdout",
     "output_type": "stream",
     "text": [
      "The dictionary {5: 1, 11: 1, 1: 2, 2: 2, 9: 3, 3: 3, 4: 3, 8: 1}\n",
      "--------------------------------------------------------------------------------------------\n",
      "dict_items([(5, 1), (11, 1), (1, 2), (2, 2), (9, 3), (3, 3), (4, 3), (8, 1)])\n",
      "----------------------------------------------------------------------------------------------\n",
      "The smallet key with the maximum elemet is: 3\n"
     ]
    }
   ],
   "source": [
    "import numpy as np\n",
    "\n",
    "def migratoryBirds(arr):\n",
    "    dic = {}                # get the elements and their respective counts ina dictionary\n",
    "    for i in arr:\n",
    "        if i not in dic:\n",
    "            dic[i] = 1\n",
    "        else:\n",
    "            dic[i] = dic[i] + 1\n",
    "    \n",
    "    initial_k, initial_v = arr[0], dic[arr[0]]      # randomly pick any initialization\n",
    "    for k,v in dic.items():\n",
    "        if (v > initial_v) or (v == initial_v and k < initial_k):   # note all the conditions\n",
    "            initial_k, initial_v = k, v\n",
    "            \n",
    "    print('The dictionary' ,dic)\n",
    "    print(\"--------------------------------------------------------------------------------------------\")\n",
    "    print(dic.items())\n",
    "    print(\"----------------------------------------------------------------------------------------------\")\n",
    "    print('The smallet key with the maximum elemet is:', initial_k)      \n",
    "    \n",
    "    \n",
    "# Example\n",
    "arr = np.array([5 ,11, 1, 2,9,9,9, 3, 4, 8, 4, 3, 2, 1, 3, 4])\n",
    "migratoryBirds(arr)"
   ]
  },
  {
   "cell_type": "code",
   "execution_count": 89,
   "metadata": {},
   "outputs": [],
   "source": [
    "ar = [1,1,2,2,2,2,4,4,4,6,7,8,8,8]"
   ]
  },
  {
   "cell_type": "code",
   "execution_count": 90,
   "metadata": {
    "scrolled": true
   },
   "outputs": [
    {
     "data": {
      "text/plain": [
       "{1: 2, 2: 4, 4: 3, 6: 1, 7: 1, 8: 3}"
      ]
     },
     "execution_count": 90,
     "metadata": {},
     "output_type": "execute_result"
    }
   ],
   "source": [
    "dic = {i:ar.count(i) for i in ar}\n",
    "dic"
   ]
  },
  {
   "cell_type": "code",
   "execution_count": null,
   "metadata": {},
   "outputs": [],
   "source": []
  }
 ],
 "metadata": {
  "kernelspec": {
   "display_name": "Python 3",
   "language": "python",
   "name": "python3"
  },
  "language_info": {
   "codemirror_mode": {
    "name": "ipython",
    "version": 3
   },
   "file_extension": ".py",
   "mimetype": "text/x-python",
   "name": "python",
   "nbconvert_exporter": "python",
   "pygments_lexer": "ipython3",
   "version": "3.7.3"
  }
 },
 "nbformat": 4,
 "nbformat_minor": 2
}
