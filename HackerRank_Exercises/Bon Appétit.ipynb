{
 "cells": [
  {
   "cell_type": "code",
   "execution_count": 369,
   "metadata": {},
   "outputs": [
    {
     "name": "stdout",
     "output_type": "stream",
     "text": [
      "5\n",
      "\n",
      "--------------------------------------------------------------------------------------\n",
      "Bon Appetit\n"
     ]
    }
   ],
   "source": [
    "##Anna and Brian are sharing a meal at a restuarant and they agree to split the bill equally. \n",
    "##Brian wants to order something that Anna is allergic to though, and they agree that Anna won't pay for that item. \n",
    "##Brian gets the check and calculates Anna's portion. You must determine if his calculation is correct.\n",
    "\n",
    "# bill: an array of integers representing the cost of each item ordered \n",
    "# k: is an integer representing the zero-based index of the item Anna doesn't eat\n",
    "# b: is the amount of money that Anna contributed to the bill   \n",
    "\n",
    "def bonAppetit(bill, k, b):  \n",
    "    Ann_allegic = bill[k]                        # locating the item Anna doesn't want to eat      \n",
    "    Anns_new_pay = (sum(bill) - Ann_allegic)//2  # Deductin the cost of Anna's allegic item from the initially money Anna contibuted\n",
    "    if b == Anns_new_pay:                        # if the new_cost == the money that Anna initially contributed to the bill \n",
    "        return ('Bon Appetit')\n",
    "    else:\n",
    "        return (b - Anns_new_pay)                # deduct Anns_new_pay from the initial contribution she made, this would be the amount \n",
    "                                                 # Brain would refund Anna\n",
    "        \n",
    "        \n",
    "# Example\n",
    "print(bonAppetit([3,10,2,9],1,12))\n",
    "print()\n",
    "print(\"--------------------------------------------------------------------------------------\")\n",
    "print(bonAppetit([2,4,6],2,3))"
   ]
  },
  {
   "cell_type": "code",
   "execution_count": 368,
   "metadata": {},
   "outputs": [
    {
     "name": "stdout",
     "output_type": "stream",
     "text": [
      "Brain's bill is: [3, 10, 2, 9]\n",
      "Anna's bill is: [3, 2, 9]\n",
      "5\n",
      "\n",
      "--------------------------------------------------------------------------------------\n",
      "Brain's bill is: [2, 4, 6]\n",
      "Anna's bill is: [2, 4]\n",
      "Bon Appetit\n"
     ]
    }
   ],
   "source": [
    "# One might\n",
    "def bonAppetit(bill, k, b):  \n",
    "    Ann_allegic = bill[k]\n",
    "    brians_pay = sum(bill)//2\n",
    "    Anns_pay = (sum(bill) - Ann_allegic)//2\n",
    "    print(\"Brain's bill is:\", bill)\n",
    "    ann_bill = bill.pop(k)\n",
    "    print(\"Anna's bill is:\",bill)\n",
    "\n",
    "    \n",
    "    if b == Anns_pay:                        \n",
    "        return ('Bon Appetit')\n",
    "    else:\n",
    "        return (b - Anns_pay)                \n",
    "        \n",
    "        \n",
    "# Example\n",
    "print(bonAppetit([3,10,2,9],1,12))\n",
    "print()\n",
    "print(\"--------------------------------------------------------------------------------------\")\n",
    "print(bonAppetit([2,4,6],2,3))"
   ]
  }
 ],
 "metadata": {
  "kernelspec": {
   "display_name": "Python 3",
   "language": "python",
   "name": "python3"
  },
  "language_info": {
   "codemirror_mode": {
    "name": "ipython",
    "version": 3
   },
   "file_extension": ".py",
   "mimetype": "text/x-python",
   "name": "python",
   "nbconvert_exporter": "python",
   "pygments_lexer": "ipython3",
   "version": "3.7.3"
  }
 },
 "nbformat": 4,
 "nbformat_minor": 2
}
