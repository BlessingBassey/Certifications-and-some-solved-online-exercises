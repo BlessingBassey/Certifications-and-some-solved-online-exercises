{
 "cells": [
  {
   "cell_type": "code",
   "execution_count": 56,
   "metadata": {},
   "outputs": [
    {
     "data": {
      "text/plain": [
       "[75, 67, 40, 33]"
      ]
     },
     "execution_count": 56,
     "metadata": {},
     "output_type": "execute_result"
    }
   ],
   "source": [
    "import numpy as np\n",
    "def gradingStudents(grades):\n",
    "    for i in range(len(grades)):\n",
    "            \n",
    "\n",
    "        if grades[i] < 38:\n",
    "            grades[i] = grades[i]\n",
    "\n",
    "        if grades[i] >= 38:\n",
    "            round_up_1 = grades[i] + 1\n",
    "            round_up_2 = grades[i] + 2\n",
    "\n",
    "\n",
    "        if grades[i] >= 38 and (round_up_1)%5 == 0:\n",
    "            grades[i] = round_up_1\n",
    "\n",
    "        if grades[i] >= 38 and (round_up_2)%5 == 0:\n",
    "            grades[i] = round_up_2\n",
    "\n",
    "        if grades[i] >= 38 and (round_up_1)%5 != 0:\n",
    "            grades[i] = grades[i]\n",
    "            \n",
    "        if grades[i] >= 38 and (round_up_2)%5 != 0:\n",
    "            grades[i] = grades[i]\n",
    "        \n",
    "    return grades\n",
    "\n",
    "# example\n",
    "gradingStudents([73,67,38,33])"
   ]
  },
  {
   "cell_type": "code",
   "execution_count": null,
   "metadata": {},
   "outputs": [],
   "source": []
  }
 ],
 "metadata": {
  "kernelspec": {
   "display_name": "Python 2",
   "language": "python",
   "name": "python2"
  },
  "language_info": {
   "codemirror_mode": {
    "name": "ipython",
    "version": 2
   },
   "file_extension": ".py",
   "mimetype": "text/x-python",
   "name": "python",
   "nbconvert_exporter": "python",
   "pygments_lexer": "ipython2",
   "version": "2.7.16"
  }
 },
 "nbformat": 4,
 "nbformat_minor": 2
}
