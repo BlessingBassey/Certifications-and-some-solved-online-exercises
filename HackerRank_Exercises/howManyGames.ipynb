{
 "cells": [
  {
   "cell_type": "code",
   "execution_count": 3,
   "metadata": {},
   "outputs": [
    {
     "name": "stdout",
     "output_type": "stream",
     "text": [
      "1\n",
      "1\n",
      "\n",
      "\n",
      "7\n",
      "7\n"
     ]
    }
   ],
   "source": [
    "'''\n",
    "You wish to buy video games from the famous online video game store Mist.\n",
    "\n",
    "Usually, all games are sold at the same price, \"p\" dollars.\n",
    "However, they are planning to have the seasonal Halloween Sale next month in which you can buy games at a cheaper price. \n",
    "Specifically, the first game you buy during the sale will be\n",
    "sold at \"p\"  dollars, but every subsequent game you buy will be sold at \n",
    "exactly \"d\"  dollars less than the cost of the previous one you bought. This will continue until the cost becomes less than or equal to \"m\" dollars,\n",
    "after which every game you buy will cost  dollars each.\n",
    "'''\n",
    "def howManyGames_1(p, d, m, s):\n",
    "    if s<p:\n",
    "        return 0\n",
    "    list_ = [p]\n",
    "    while p > m and p-m >= d:\n",
    "        p -= d\n",
    "        list_.append(p)\n",
    "    sum_list = sum(list_)\n",
    "    if s >= sum_list:\n",
    "        rem = (s-sum_list)//m\n",
    "        return len(list_)+rem\n",
    "    # now lets attend to the case were s < sum_list\n",
    "    sum_list = 0\n",
    "    for i, v in enumerate(list_):\n",
    "        sum_list += v\n",
    "        if sum_list > s:\n",
    "            return i\n",
    "    return len(list_)\n",
    "\n",
    "   \n",
    "def howManyGames_2(p, d, m, s):\n",
    "    count = 0\n",
    "    while s >= m and s >= p:\n",
    "        s -= p\n",
    "        p -= d\n",
    "        if p <= m:\n",
    "            p = m\n",
    "        count += 1\n",
    "    return count\n",
    "    \n",
    "    \n",
    "# Example\n",
    "print(howManyGames_1(100, 19, 1, 180))\n",
    "print(howManyGames_2(100, 19, 1, 180))\n",
    "print(\"\\n\")\n",
    "print(howManyGames_1(20, 3, 6, 85))\n",
    "print(howManyGames_2(20, 3, 6, 85))"
   ]
  },
  {
   "cell_type": "code",
   "execution_count": null,
   "metadata": {},
   "outputs": [],
   "source": []
  }
 ],
 "metadata": {
  "kernelspec": {
   "display_name": "Python 3",
   "language": "python",
   "name": "python3"
  },
  "language_info": {
   "codemirror_mode": {
    "name": "ipython",
    "version": 3
   },
   "file_extension": ".py",
   "mimetype": "text/x-python",
   "name": "python",
   "nbconvert_exporter": "python",
   "pygments_lexer": "ipython3",
   "version": "3.7.3"
  }
 },
 "nbformat": 4,
 "nbformat_minor": 2
}
