{
 "cells": [
  {
   "cell_type": "code",
   "execution_count": 10,
   "metadata": {},
   "outputs": [
    {
     "name": "stdout",
     "output_type": "stream",
     "text": [
      "4 0\n"
     ]
    }
   ],
   "source": [
    "def breakingRecords(scores):\n",
    "    n = len(scores) \n",
    "    count_highest = 0\n",
    "    count_lowest = 0\n",
    "        \n",
    "    higest_score = scores[0]\n",
    "    lowest_score = scores[0]\n",
    "    \n",
    "    for score in range(n):\n",
    "        if scores[score] > higest_score:\n",
    "            higest_score = scores[score]\n",
    "            count_highest += 1\n",
    "                    \n",
    "        if scores[score] < lowest_score:\n",
    "            lowest_score = scores[score]\n",
    "            count_lowest += 1\n",
    "                    \n",
    "    print (count_highest,count_lowest)\n",
    "                    \n",
    "\n",
    "# Example\n",
    "import numpy as np\n",
    "#b = np.array([10, 5 ,20, 20, 4, 5, 2, 25, 1])\n",
    "b = np.array([3, 4 ,21, 36, 10, 28, 35, 5, 24, 42])\n",
    "\n",
    "breakingRecords(b)"
   ]
  },
  {
   "cell_type": "code",
   "execution_count": null,
   "metadata": {},
   "outputs": [],
   "source": []
  }
 ],
 "metadata": {
  "kernelspec": {
   "display_name": "Python 3",
   "language": "python",
   "name": "python3"
  },
  "language_info": {
   "codemirror_mode": {
    "name": "ipython",
    "version": 3
   },
   "file_extension": ".py",
   "mimetype": "text/x-python",
   "name": "python",
   "nbconvert_exporter": "python",
   "pygments_lexer": "ipython3",
   "version": "3.7.3"
  }
 },
 "nbformat": 4,
 "nbformat_minor": 2
}
