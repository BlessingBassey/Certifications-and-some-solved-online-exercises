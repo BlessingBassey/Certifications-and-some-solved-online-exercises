{
 "cells": [
  {
   "cell_type": "code",
   "execution_count": 73,
   "metadata": {},
   "outputs": [
    {
     "name": "stdout",
     "output_type": "stream",
     "text": [
      "3\n",
      "4\n",
      "The sum is equal 7\n"
     ]
    }
   ],
   "source": [
    "#Complete the function solveMeFirst to compute the sum of two integers.\n",
    "def summ(x,y):\n",
    "    return x+y\n",
    "\n",
    "first_num = int(input())\n",
    "second_num = int(input())\n",
    "result = summ(first_num,second_num)\n",
    "\n",
    "print('The sum is equal',result)\n"
   ]
  },
  {
   "cell_type": "code",
   "execution_count": 84,
   "metadata": {},
   "outputs": [
    {
     "data": {
      "text/plain": [
       "15"
      ]
     },
     "execution_count": 84,
     "metadata": {},
     "output_type": "execute_result"
    }
   ],
   "source": [
    "#Given an array of integers, find the sum of its elements.\n",
    "import os\n",
    "import sys\n",
    "\n",
    "def simpleArraySum(ar):\n",
    "    summ = 0\n",
    "    for i in ar:\n",
    "        summ += i\n",
    "    return summ \n",
    "\n",
    "#Example\n",
    "simpleArraySum([1,2,3,4,5])\n",
    " \n",
    "   "
   ]
  },
  {
   "cell_type": "code",
   "execution_count": 82,
   "metadata": {},
   "outputs": [
    {
     "data": {
      "text/plain": [
       "[1, 2]"
      ]
     },
     "execution_count": 82,
     "metadata": {},
     "output_type": "execute_result"
    }
   ],
   "source": [
    "#Comapring each element in 2 list, which ever is bigger receives a point, if they are equal, no point for any one\n",
    "# i.e  comparing triplet\n",
    "import numpy as np\n",
    "def compareTriplets(a, b):\n",
    "    Alice =0\n",
    "    Bob = 0\n",
    "\n",
    "    for i in range(len(b)):        \n",
    "        if a[i] > b[i]:\n",
    "            Alice+=1\n",
    "        elif a[i] == b[i]:\n",
    "            print('Nobody receives a point')\n",
    "        elif a[i] < b[i]:\n",
    "            Bob+=1\n",
    "    return [Alice,Bob]\n",
    "\n",
    "#Example\n",
    "a = np.array([1,2,3])\n",
    "b = np.array([3,4,2])\n",
    "\n",
    "compareTriplets(a, b)"
   ]
  },
  {
   "cell_type": "code",
   "execution_count": 85,
   "metadata": {},
   "outputs": [
    {
     "data": {
      "text/plain": [
       "9"
      ]
     },
     "execution_count": 85,
     "metadata": {},
     "output_type": "execute_result"
    }
   ],
   "source": [
    "# Complete the aVeryBigSum function below.\n",
    "def aVeryBigSum(ar):\n",
    "    summ = 0\n",
    "    for i in ar:\n",
    "        summ = summ+ i\n",
    "    return summ\n",
    "\n",
    "#Example\n",
    "Big = np.array([2,3,4])\n",
    "aVeryBigSum (Big)"
   ]
  },
  {
   "cell_type": "code",
   "execution_count": 136,
   "metadata": {},
   "outputs": [],
   "source": [
    "def matrixdiagonal_1(arr):\n",
    "    n = len(arr)\n",
    "    left = 0\n",
    "    right = 0\n",
    "    \n",
    "    \n",
    "    for i in range(n):\n",
    "        for j in range(n):\n",
    "            \n",
    "            if i==j:\n",
    "                left += arr[i,j]\n",
    "            \n",
    "            if i+j == n - 1:\n",
    "                    right += arr[i,j]                    \n",
    "                \n",
    "    print(left)\n",
    "    print(right)\n",
    "    return abs(left-right)\n",
    "                \n",
    "    "
   ]
  },
  {
   "cell_type": "code",
   "execution_count": 137,
   "metadata": {
    "scrolled": true
   },
   "outputs": [
    {
     "data": {
      "text/plain": [
       "array([[ 2, 44,  4],\n",
       "       [ 5,  6,  7],\n",
       "       [ 3,  5,  6]])"
      ]
     },
     "execution_count": 137,
     "metadata": {},
     "output_type": "execute_result"
    }
   ],
   "source": [
    "r = np.array([[2,44,4],[5,6,7],[3,5,6]])\n",
    "r"
   ]
  },
  {
   "cell_type": "code",
   "execution_count": 138,
   "metadata": {},
   "outputs": [
    {
     "name": "stdout",
     "output_type": "stream",
     "text": [
      "14\n",
      "13\n"
     ]
    },
    {
     "data": {
      "text/plain": [
       "1"
      ]
     },
     "execution_count": 138,
     "metadata": {},
     "output_type": "execute_result"
    }
   ],
   "source": [
    "matrixdiagonal_1(r)\n"
   ]
  },
  {
   "cell_type": "code",
   "execution_count": 139,
   "metadata": {},
   "outputs": [
    {
     "name": "stdout",
     "output_type": "stream",
     "text": [
      "3\n"
     ]
    },
    {
     "data": {
      "text/plain": [
       "1"
      ]
     },
     "execution_count": 139,
     "metadata": {},
     "output_type": "execute_result"
    }
   ],
   "source": [
    "def matrixdiagonal_2(arr):\n",
    "    n = len(arr)\n",
    "    left = 0\n",
    "    right = 0\n",
    "    print(n)\n",
    "    for i in range(n):\n",
    "        left += arr[i, i]\n",
    "        right += arr[i, (n - i) - 1]\n",
    "        #print(left)\n",
    "        #print(right)\n",
    "\n",
    "    return left-right\n",
    "\n",
    "matrixdiagonal_2(r)"
   ]
  },
  {
   "cell_type": "code",
   "execution_count": 105,
   "metadata": {},
   "outputs": [],
   "source": [
    "def diagonalDifference(arr):\n",
    "    # Write your code here\n",
    "\n",
    "    n = len(arr)\n",
    "    left = 0\n",
    "    right = 0\n",
    "    for i in range(n):\n",
    "        left += arr[i][i]\n",
    "        right += arr[i][n - i - 1]\n",
    "        #print(left)\n",
    "        #print(right)\n",
    "\n",
    "    return abs(left-right)\n"
   ]
  },
  {
   "cell_type": "code",
   "execution_count": 106,
   "metadata": {},
   "outputs": [
    {
     "name": "stdout",
     "output_type": "stream",
     "text": [
      "0.500000\n",
      "0.333333\n",
      "0.166667\n"
     ]
    }
   ],
   "source": [
    "import math \n",
    "\n",
    "def plusMinus(arr):\n",
    "    positive_num = []\n",
    "    negavtive_num = []\n",
    "    zeros = []\n",
    "    \n",
    "    for i in (arr):\n",
    "        if i > 0:\n",
    "            positive_num.append(i)\n",
    "        if i < 0:\n",
    "            negavtive_num.append(i)\n",
    "        if i == 0:\n",
    "            zeros.append(i)\n",
    "    a = len(positive_num)/len(arr)\n",
    "    b = len(negavtive_num)/len(arr)\n",
    "    c = len(zeros)/len(arr)\n",
    "            \n",
    "    #return positive_num,negavtive_num,zeros\n",
    "    #print round((a,6),(b,6),(c,6))\n",
    "    \n",
    "    print (end=\"\") \n",
    "    print (\"{0:.6f}\".format(a)) \n",
    "    \n",
    "    print (end=\"\") \n",
    "    print (\"{0:.6f}\".format(b))\n",
    "    \n",
    "    print (end=\"\") \n",
    "    print (\"{0:.6f}\".format(c))\n",
    "\n",
    "    \n",
    "# Example\n",
    "a = np.array([-4, 3, -9 ,0, 4, 1])\n",
    "plusMinus(a)\n",
    "    \n",
    "    "
   ]
  },
  {
   "cell_type": "code",
   "execution_count": 4,
   "metadata": {},
   "outputs": [
    {
     "name": "stdout",
     "output_type": "stream",
     "text": [
      "     #\n",
      "    ##\n",
      "   ###\n",
      "  ####\n",
      " #####\n",
      "######\n"
     ]
    }
   ],
   "source": [
    "def staircase(n):\n",
    "    for i in range(1,n+1):        \n",
    "        print((n-i)*\" \" + '#'*i)\n",
    "\n",
    "        \n",
    "# Example\n",
    "staircase(6)     "
   ]
  },
  {
   "cell_type": "code",
   "execution_count": 14,
   "metadata": {},
   "outputs": [
    {
     "name": "stdout",
     "output_type": "stream",
     "text": [
      "     #\n",
      "    ##\n",
      "   ###\n",
      "  ####\n",
      " #####\n",
      "######\n"
     ]
    }
   ],
   "source": [
    "#How can I do the backward\n",
    "\n",
    "def staircase(n):\n",
    "    for i in range(1,n+1):        \n",
    "        print((n-i)*\" \" + '#'*i)\n",
    "\n",
    "        \n",
    "# Example\n",
    "staircase(6) "
   ]
  },
  {
   "cell_type": "code",
   "execution_count": null,
   "metadata": {},
   "outputs": [],
   "source": [
    "def miniMaxSum1(arr):\n",
    "    sorting = sorted(arr)\n",
    "    min_list = sorting[0:-1]\n",
    "\n",
    "    max_list = sorting[1:]\n",
    "\n",
    "    minni = 0\n",
    "    maxxi = 0\n",
    "    \n",
    "\n",
    "    for i in (min_list):\n",
    "        minni += i\n",
    "    \n",
    "    for j in (max_list):\n",
    "        maxxi += j\n",
    "    final = minni,maxxi\n",
    "    print(minni,maxxi)\n",
    "    \n",
    "#This code above can be optimize as follows, for better computational complexity.\n",
    "    \n",
    "    \n",
    "def miniMaxSum2(arr):\n",
    "    min=10**10\n",
    "    max = -1\n",
    "    idx_min=-1\n",
    "    idx_max=-1\n",
    "    \n",
    "    for i, x in enumerate(arr):\n",
    "        if min>x:\n",
    "            min=x\n",
    "            idx_min=i\n",
    "        if max<x:\n",
    "            max=x\n",
    "            idx_max=i\n",
    "    \n",
    "    minni = sum([arr[i] for i in range(len(arr))  if i!= idx_max])\n",
    "    maxxi = sum([arr[i] for i in range(len(arr))  if i!= idx_min])\n",
    "\n",
    "    print(minni,maxxi) \n",
    "\n",
    "\n",
    "b = [random.randint(1,100) for i in range(10**7)]\n",
    "        \n",
    "miniMaxSum1(b)    \n",
    "miniMaxSum2(b)"
   ]
  },
  {
   "cell_type": "code",
   "execution_count": 144,
   "metadata": {},
   "outputs": [
    {
     "data": {
      "text/plain": [
       "2"
      ]
     },
     "execution_count": 144,
     "metadata": {},
     "output_type": "execute_result"
    }
   ],
   "source": [
    "import numpy as np\n",
    "\n",
    "def birthdayCakeCandles(ar):\n",
    "    ar = sorted(ar)\n",
    "    max_candle = ar[-1]\n",
    "    max_candles = []\n",
    "    \n",
    "    for i in ar:\n",
    "        if i == max_candle:\n",
    "            max_candles.append(i)\n",
    "    return len(max_candles)\n",
    "\n",
    "# This can be optizes as follows\n",
    "\n",
    "def birthdayCakeCandles2(ar):\n",
    "    max_candle = -1\n",
    "    max_candles = 0\n",
    "    for i in ar: \n",
    "        if i > max_candle:\n",
    "            max_candle = i\n",
    "            max_candles = 1\n",
    "        elif i == max_candle:\n",
    "            max_candles +=1\n",
    "    return max_candles\n",
    "\n",
    "# Example\n",
    "c = np.array([2,3,6,1,4,6,1,5])\n",
    "birthdayCakeCandles(c)"
   ]
  },
  {
   "cell_type": "code",
   "execution_count": 2,
   "metadata": {},
   "outputs": [
    {
     "data": {
      "text/plain": [
       "'12:45:54'"
      ]
     },
     "execution_count": 2,
     "metadata": {},
     "output_type": "execute_result"
    }
   ],
   "source": [
    "# Changing time from 12 hours to 24 hours\n",
    "import numpy as np\n",
    "def timeConversion(s):\n",
    "    hh,mm,ss = s.split(':')\n",
    "    hh = s.split(':')[0]\n",
    "    #ss[-2] = AM or PM\n",
    "    \n",
    "    if hh == '12' and ss[-2:] == 'AM':\n",
    "        hh = '00'\n",
    "    if hh!= '12' and ss[-2:] == 'PM':\n",
    "        hh = str(int(hh) + 12)\n",
    "        \n",
    "    return hh + ':' + mm + ':'+ ss[:-2]\n",
    "    \n",
    "# Example\n",
    "b = '12:45:54PM'\n",
    "timeConversion(b)"
   ]
  },
  {
   "cell_type": "code",
   "execution_count": 3,
   "metadata": {},
   "outputs": [
    {
     "data": {
      "text/plain": [
       "[75, 67, 40, 33]"
      ]
     },
     "execution_count": 3,
     "metadata": {},
     "output_type": "execute_result"
    }
   ],
   "source": [
    "'''Given the initial value of grade for each of Sam's students, write code to automate the rounding process.\n",
    "\n",
    "Function Description\n",
    "\n",
    "Complete the function gradingStudents in the editor below. It should return an integer array consisting of rounded grades.\n",
    "\n",
    "gradingStudents has the following parameter(s):\n",
    "\n",
    "    grades: an array of integers representing grades before rounding\n",
    "'''\n",
    "import numpy as np\n",
    "def gradingStudents1(grades):\n",
    "    for i in range(len(grades)):\n",
    "            \n",
    "\n",
    "        if grades[i] < 38:\n",
    "            grades[i] = grades[i]\n",
    "\n",
    "            # since thr lecturer can only add at most 2 marks, hence, we have the following\n",
    "        if grades[i] >= 38:\n",
    "            round_up_1 = grades[i] + 1\n",
    "            round_up_2 = grades[i] + 2\n",
    "\n",
    "\n",
    "        if grades[i] >= 38 and (round_up_1)%5 == 0:\n",
    "            grades[i] = round_up_1\n",
    "\n",
    "        if grades[i] >= 38 and (round_up_2)%5 == 0:\n",
    "            grades[i] = round_up_2\n",
    "\n",
    "        if grades[i] >= 38 and (round_up_1)%5 != 0:\n",
    "            grades[i] = grades[i]\n",
    "            \n",
    "        if grades[i] >= 38 and (round_up_2)%5 != 0:\n",
    "            grades[i] = grades[i]\n",
    "        \n",
    "    return grades\n",
    "\n",
    "# example\n",
    "gradingStudents1([73,67,38,33])"
   ]
  },
  {
   "cell_type": "code",
   "execution_count": 4,
   "metadata": {},
   "outputs": [
    {
     "name": "stdout",
     "output_type": "stream",
     "text": [
      "1\n",
      "1\n"
     ]
    }
   ],
   "source": [
    "import numpy as np\n",
    "# def countApplesAndOranges(s, t, a, b, apples, oranges):\n",
    "# #     house_start_point = s\n",
    "# #     house_end_point = t\n",
    "# #     location_apple = a\n",
    "# #     location_orange = b\n",
    "# #     distance_apple = apples\n",
    "# #     distance_orange = oranges\n",
    "    \n",
    "def countApplesAndOranges(s, t, a, b, apples, oranges):\n",
    "    count_apple = []\n",
    "    count_orange = []\n",
    "    num_apple = 0\n",
    "    num_orange = 0\n",
    "    \n",
    "    for i in range(len(apples)):\n",
    "        count1 = apples[i] + a\n",
    "        count_apple.append(count1)\n",
    "        \n",
    "        if (count_apple[i] >= s) and  (count_apple[i] <= t):\n",
    "            num_apple += 1\n",
    "        \n",
    "    for k in range(len(oranges)):\n",
    "        count2 = oranges[k] + b\n",
    "        count_orange.append(count2)\n",
    "        \n",
    "        if (count_orange[k] >= s) and (count_orange[k] <= t):\n",
    "            num_orange += 1\n",
    "     \n",
    "        \n",
    "    print(num_apple)\n",
    "    print(num_orange)\n",
    "    \n",
    "countApplesAndOranges(7, 11, 5, 15, [-2,2,1], [5,-6])"
   ]
  },
  {
   "cell_type": "code",
   "execution_count": null,
   "metadata": {},
   "outputs": [],
   "source": []
  },
  {
   "cell_type": "code",
   "execution_count": 165,
   "metadata": {},
   "outputs": [],
   "source": [
    "# This is the first approach\n",
    "\n",
    "'''You are choreographing a circus show with various animals. For one act, you are given two kangaroos on a number line ready to jump in the positive direction (i.e, toward positive infinity).\n",
    "\n",
    "    The first kangaroo starts at location x1 and moves at a rate v1 of meters per jump.\n",
    "    The first kangaroo starts at location x2 and moves at a rate v2 of meters per jump.\n",
    "    \n",
    "You have to figure out a way to get both kangaroos at the same location at the same time as part of the show. If it is possible, return YES, otherwise return NO.'''\n",
    "\n",
    "def kangaroo_1(x1, v1, x2, v2):\n",
    "    \n",
    "    if x1 > x2:\n",
    "        x1, v1, x2, v2 = x2, v2, x1, v1   # What if the values are interchanged, will it still give the same answer?\n",
    "        \n",
    "    if x1 < x2 and v2 > v1:\n",
    "        return ('NO')\n",
    "    \n",
    "    while True:\n",
    "        if x1 == x2:\n",
    "            return 'YES'\n",
    "        x1 += v1\n",
    "        x2 += v2\n",
    "        \n",
    "        if x1 > x2:\n",
    "            return 'NO'\n",
    "\n",
    "def kangaroo_2(x1, v1, x2, v2):\n",
    "    def get_value(a,n,d):\n",
    "        return a + (n - 1)*d\n",
    "    \n",
    "    if x1 > x2:\n",
    "        x1, v1, x2, v2 = x2, v2, x1, v1\n",
    "    \n",
    "    n = 1\n",
    "    if v2 > v1:\n",
    "        return ('NO')\n",
    "    \n",
    "        \n",
    "    while True:\n",
    "        k1,k2 = get_value(x1,n,v1) , get_value(x2,n,v2)   # This is the formular for Arithmetic Progression\n",
    "                \n",
    "        if k1 == k2:\n",
    "            return 'YES'\n",
    "\n",
    "        if k1 > k2:\n",
    "                return 'NO'\n",
    "        n += 1\n",
    "\n",
    "def kangaroo_3(x1, v1, x2, v2):\n",
    "    \n",
    "    # x1 + n*v1 = x2 + n*v2, it implies that n = (x2 - x1) / (v1 - v2) \n",
    "    \n",
    "    num = x2 - x1\n",
    "    dem = v1 - v2\n",
    "    if dem == 0 or (num%dem != 0 or num/dem < 0):\n",
    "        return 'NO'\n",
    "            \n",
    "    return 'YES' "
   ]
  },
  {
   "cell_type": "code",
   "execution_count": 166,
   "metadata": {},
   "outputs": [
    {
     "name": "stdout",
     "output_type": "stream",
     "text": [
      "YES\n",
      "YES\n",
      "NO\n"
     ]
    }
   ],
   "source": [
    "print(kangaroo_1(0, 3 ,4 ,2)) \n",
    "\n",
    "print(kangaroo_1(4, 2 ,0,3))  # Intercahnging the numbers above\n",
    " \n",
    "print(kangaroo_1(0,2,5,3))"
   ]
  },
  {
   "cell_type": "code",
   "execution_count": 167,
   "metadata": {},
   "outputs": [
    {
     "name": "stdout",
     "output_type": "stream",
     "text": [
      "YES\n",
      "YES\n",
      "NO\n"
     ]
    }
   ],
   "source": [
    "print(kangaroo_2(0, 3 ,4 ,2)) \n",
    "\n",
    "print(kangaroo_2(4, 2 ,0,3))  # Intercahnging the numbers above\n",
    " \n",
    "print(kangaroo_2(0,2,5,3))"
   ]
  },
  {
   "cell_type": "code",
   "execution_count": 168,
   "metadata": {},
   "outputs": [
    {
     "name": "stdout",
     "output_type": "stream",
     "text": [
      "YES\n",
      "YES\n",
      "NO\n"
     ]
    }
   ],
   "source": [
    "print(kangaroo_3(0, 3 ,4 ,2))\n",
    "print(kangaroo_3(4, 2 ,0,3))\n",
    "print(kangaroo_3(0,3,5,3))"
   ]
  },
  {
   "cell_type": "code",
   "execution_count": 146,
   "metadata": {},
   "outputs": [
    {
     "name": "stdout",
     "output_type": "stream",
     "text": [
      "4\n",
      "8\n",
      "16\n"
     ]
    },
    {
     "data": {
      "text/plain": [
       "3"
      ]
     },
     "execution_count": 146,
     "metadata": {},
     "output_type": "execute_result"
    }
   ],
   "source": [
    "def multiple(arr,n):       # I need a number 'n', such that every element in the array 'arr' is a factor of that number\n",
    "    for i in arr:\n",
    "        if n % i !=0:\n",
    "            return False\n",
    "    return True\n",
    "        \n",
    "\n",
    "def divisible(arr,n):  #I need a number 'n', such that 'n' is a factor of every element in the array 'arr'\n",
    "    for i in arr:\n",
    "        if i % n !=0:\n",
    "            return False\n",
    "    return True\n",
    "\n",
    "def getTotalX(a, b): \n",
    "    count = 0\n",
    "    n = min(a)\n",
    "    while n <= max(b):\n",
    "        if multiple(a,n) and divisible (b,n):\n",
    "            count += 1\n",
    "            print(n)\n",
    "        n = n + min(a)\n",
    "          \n",
    "    return count\n",
    "\n",
    "\n",
    "import numpy as np\n",
    "a = np.array([2,4])\n",
    "b = np.array([16,32,96])\n",
    "\n",
    "getTotalX(a, b)"
   ]
  },
  {
   "cell_type": "code",
   "execution_count": 1,
   "metadata": {},
   "outputs": [
    {
     "name": "stdout",
     "output_type": "stream",
     "text": [
      "4\n",
      "0\n"
     ]
    }
   ],
   "source": [
    "def breakingRecords(scores):\n",
    "    n = len(scores) \n",
    "    count_highest = 0\n",
    "    count_lowest = 0\n",
    "        \n",
    "    higest_score = scores[0]\n",
    "    lowest_score = scores[0]\n",
    "    \n",
    "    for score in range(n):\n",
    "        if scores[score] > higest_score:\n",
    "            \n",
    "            higest_score = scores[score]\n",
    "            count_highest += 1\n",
    "                    \n",
    "        if scores[score] < lowest_score:\n",
    "            lowest_score = scores[score]\n",
    "            count_lowest += 1\n",
    "                    \n",
    "    print(count_highest)\n",
    "    print(count_lowest)\n",
    "                    \n",
    "\n",
    "# Example\n",
    "import numpy as np\n",
    "#b = np.array([10, 5 ,20, 20, 4, 5, 2, 25, 1])\n",
    "b = np.array([3, 4 ,21, 36, 10, 28, 35, 5, 24, 42])\n",
    "\n",
    "breakingRecords(b)"
   ]
  },
  {
   "cell_type": "code",
   "execution_count": 8,
   "metadata": {},
   "outputs": [
    {
     "name": "stdout",
     "output_type": "stream",
     "text": [
      "1 2 3 4 5\n"
     ]
    }
   ],
   "source": [
    "# printing out a number from 1 to that number\n",
    "def num(n):\n",
    "    ran = list(range(1,n+1))\n",
    "    str1 = ' '.join(str(e) for e in ran)\n",
    "    print(str1)\n",
    "    \n",
    "    \n",
    "    \n",
    "num(5)"
   ]
  },
  {
   "cell_type": "code",
   "execution_count": 129,
   "metadata": {},
   "outputs": [],
   "source": [
    "def pivotIndex(nums):\n",
    "    \n",
    "    for i in range(len(nums)):\n",
    "        if sum(nums[ :i]) == sum(nums[i+1 :]):\n",
    "            return i        \n",
    "        \n",
    "    return -1    "
   ]
  },
  {
   "cell_type": "code",
   "execution_count": 130,
   "metadata": {},
   "outputs": [
    {
     "data": {
      "text/plain": [
       "2"
      ]
     },
     "execution_count": 130,
     "metadata": {},
     "output_type": "execute_result"
    }
   ],
   "source": [
    "pivotIndex([2,6,3,5,3])"
   ]
  },
  {
   "cell_type": "code",
   "execution_count": 131,
   "metadata": {},
   "outputs": [
    {
     "data": {
      "text/plain": [
       "3"
      ]
     },
     "execution_count": 131,
     "metadata": {},
     "output_type": "execute_result"
    }
   ],
   "source": [
    "pivotIndex([2,2,1,0,5])"
   ]
  },
  {
   "cell_type": "code",
   "execution_count": null,
   "metadata": {},
   "outputs": [],
   "source": []
  },
  {
   "cell_type": "code",
   "execution_count": null,
   "metadata": {},
   "outputs": [],
   "source": []
  },
  {
   "cell_type": "code",
   "execution_count": 186,
   "metadata": {},
   "outputs": [],
   "source": [
    "def dominantIndex(nums):\n",
    "    for i in range(len(nums)-1):\n",
    "        \n",
    "        if (nums[i] > nums[i-1] and nums[i] > nums[i+1]) and (nums[i] >= nums[i-1]*2) or (nums[i] >= nums[i+1]*2):\n",
    "            return i\n",
    "        \n",
    "    for j in range(len(nums)):\n",
    "        if (nums[-1] < nums[j]*2):\n",
    "            return True\n",
    "            \n",
    "            \n",
    "        return len(nums) - 1\n",
    "        \n",
    "    return -1 "
   ]
  },
  {
   "cell_type": "code",
   "execution_count": 187,
   "metadata": {},
   "outputs": [],
   "source": [
    "List = [3,6,1,0]"
   ]
  },
  {
   "cell_type": "code",
   "execution_count": 188,
   "metadata": {},
   "outputs": [
    {
     "data": {
      "text/plain": [
       "1"
      ]
     },
     "execution_count": 188,
     "metadata": {},
     "output_type": "execute_result"
    }
   ],
   "source": [
    "dominantIndex(List)"
   ]
  },
  {
   "cell_type": "code",
   "execution_count": 189,
   "metadata": {},
   "outputs": [],
   "source": [
    "List = [1,2,3,8]"
   ]
  },
  {
   "cell_type": "code",
   "execution_count": 190,
   "metadata": {},
   "outputs": [
    {
     "data": {
      "text/plain": [
       "3"
      ]
     },
     "execution_count": 190,
     "metadata": {},
     "output_type": "execute_result"
    }
   ],
   "source": [
    "dominantIndex(List)"
   ]
  },
  {
   "cell_type": "code",
   "execution_count": 191,
   "metadata": {},
   "outputs": [],
   "source": [
    "List = [1,2,3,4]"
   ]
  },
  {
   "cell_type": "code",
   "execution_count": 192,
   "metadata": {},
   "outputs": [
    {
     "data": {
      "text/plain": [
       "3"
      ]
     },
     "execution_count": 192,
     "metadata": {},
     "output_type": "execute_result"
    }
   ],
   "source": [
    "dominantIndex(List)"
   ]
  },
  {
   "cell_type": "code",
   "execution_count": 197,
   "metadata": {},
   "outputs": [],
   "source": [
    "def dominantIndex_1(nums):\n",
    "    max_value =0\n",
    "    \n",
    "    for i in range(len(nums)):\n",
    "        if nums[i] > nums[i-1]:\n",
    "            nums_value = nums[i]\n",
    "    return i"
   ]
  },
  {
   "cell_type": "code",
   "execution_count": 198,
   "metadata": {},
   "outputs": [
    {
     "data": {
      "text/plain": [
       "3"
      ]
     },
     "execution_count": 198,
     "metadata": {},
     "output_type": "execute_result"
    }
   ],
   "source": [
    "dominantIndex_1(List)"
   ]
  },
  {
   "cell_type": "code",
   "execution_count": null,
   "metadata": {},
   "outputs": [],
   "source": [
    "def strStr(self, haystack: str, needle: str)"
   ]
  },
  {
   "cell_type": "code",
   "execution_count": 222,
   "metadata": {},
   "outputs": [],
   "source": [
    "def strStr(haystack, needle):\n",
    "    n = len(needle)\n",
    "    m = len(haystack)\n",
    "    \n",
    "    if n < 1 or m < 1:\n",
    "        return 0\n",
    "    \n",
    "    for i in range(m):\n",
    "        if haystack[i:i+n] == needle:\n",
    "            return i\n",
    "           \n",
    "    return -1"
   ]
  },
  {
   "cell_type": "code",
   "execution_count": 223,
   "metadata": {},
   "outputs": [],
   "source": [
    "haystack = \"hello\"\n",
    "needle = \"ll\""
   ]
  },
  {
   "cell_type": "code",
   "execution_count": 224,
   "metadata": {},
   "outputs": [
    {
     "data": {
      "text/plain": [
       "2"
      ]
     },
     "execution_count": 224,
     "metadata": {},
     "output_type": "execute_result"
    }
   ],
   "source": [
    "strStr(haystack, needle)"
   ]
  },
  {
   "cell_type": "code",
   "execution_count": 218,
   "metadata": {},
   "outputs": [],
   "source": [
    "haystack = \"aaaaa\"\n",
    "needle = \"bba\""
   ]
  },
  {
   "cell_type": "code",
   "execution_count": 219,
   "metadata": {},
   "outputs": [
    {
     "data": {
      "text/plain": [
       "-1"
      ]
     },
     "execution_count": 219,
     "metadata": {},
     "output_type": "execute_result"
    }
   ],
   "source": [
    "strStr(haystack, needle)"
   ]
  },
  {
   "cell_type": "code",
   "execution_count": null,
   "metadata": {},
   "outputs": [],
   "source": []
  },
  {
   "cell_type": "code",
   "execution_count": 220,
   "metadata": {},
   "outputs": [],
   "source": [
    "Input= [\"flower\",\"flow\",\"flight\"]"
   ]
  },
  {
   "cell_type": "code",
   "execution_count": 226,
   "metadata": {},
   "outputs": [
    {
     "data": {
      "text/plain": [
       "'l'"
      ]
     },
     "execution_count": 226,
     "metadata": {},
     "output_type": "execute_result"
    }
   ],
   "source": [
    "Input[0][1]"
   ]
  },
  {
   "cell_type": "code",
   "execution_count": 233,
   "metadata": {},
   "outputs": [],
   "source": [
    "def longestCommonPrefix(strs):\n",
    "    pre = []\n",
    "    for i in strs:\n",
    "        return \n",
    "        \n",
    "            return see\n",
    "    return 0"
   ]
  },
  {
   "cell_type": "code",
   "execution_count": 234,
   "metadata": {},
   "outputs": [],
   "source": [
    "s = [\"flower\",\"flow\",\"flight\"]"
   ]
  },
  {
   "cell_type": "code",
   "execution_count": 235,
   "metadata": {},
   "outputs": [
    {
     "ename": "TypeError",
     "evalue": "list indices must be integers or slices, not str",
     "output_type": "error",
     "traceback": [
      "\u001b[0;31m---------------------------------------------------------------------------\u001b[0m",
      "\u001b[0;31mTypeError\u001b[0m                                 Traceback (most recent call last)",
      "\u001b[0;32m<ipython-input-235-83655f1960b6>\u001b[0m in \u001b[0;36m<module>\u001b[0;34m()\u001b[0m\n\u001b[0;32m----> 1\u001b[0;31m \u001b[0mlongestCommonPrefix\u001b[0m\u001b[0;34m(\u001b[0m\u001b[0ms\u001b[0m\u001b[0;34m)\u001b[0m\u001b[0;34m\u001b[0m\u001b[0;34m\u001b[0m\u001b[0m\n\u001b[0m",
      "\u001b[0;32m<ipython-input-233-a84ee88d7e75>\u001b[0m in \u001b[0;36mlongestCommonPrefix\u001b[0;34m(strs)\u001b[0m\n\u001b[1;32m      2\u001b[0m     \u001b[0msee\u001b[0m \u001b[0;34m=\u001b[0m \u001b[0;34m[\u001b[0m\u001b[0;34m]\u001b[0m\u001b[0;34m\u001b[0m\u001b[0;34m\u001b[0m\u001b[0m\n\u001b[1;32m      3\u001b[0m     \u001b[0;32mfor\u001b[0m \u001b[0mi\u001b[0m \u001b[0;32min\u001b[0m \u001b[0mstrs\u001b[0m\u001b[0;34m:\u001b[0m\u001b[0;34m\u001b[0m\u001b[0;34m\u001b[0m\u001b[0m\n\u001b[0;32m----> 4\u001b[0;31m         \u001b[0;32mif\u001b[0m \u001b[0mstrs\u001b[0m\u001b[0;34m[\u001b[0m\u001b[0mi\u001b[0m\u001b[0;34m]\u001b[0m\u001b[0;34m[\u001b[0m\u001b[0mj\u001b[0m\u001b[0;34m]\u001b[0m \u001b[0;34m==\u001b[0m \u001b[0mstrs\u001b[0m\u001b[0;34m[\u001b[0m\u001b[0mi\u001b[0m\u001b[0;34m+\u001b[0m\u001b[0;36m1\u001b[0m\u001b[0;34m]\u001b[0m\u001b[0;34m[\u001b[0m\u001b[0mj\u001b[0m\u001b[0;34m]\u001b[0m \u001b[0;34m==\u001b[0m \u001b[0mstrs\u001b[0m\u001b[0;34m[\u001b[0m\u001b[0mi\u001b[0m\u001b[0;34m+\u001b[0m\u001b[0;36m2\u001b[0m\u001b[0;34m]\u001b[0m\u001b[0;34m[\u001b[0m\u001b[0mj\u001b[0m\u001b[0;34m]\u001b[0m\u001b[0;34m:\u001b[0m\u001b[0;34m\u001b[0m\u001b[0;34m\u001b[0m\u001b[0m\n\u001b[0m\u001b[1;32m      5\u001b[0m             \u001b[0msee\u001b[0m\u001b[0;34m.\u001b[0m\u001b[0mappend\u001b[0m\u001b[0;34m[\u001b[0m\u001b[0mj\u001b[0m\u001b[0;34m]\u001b[0m\u001b[0;34m\u001b[0m\u001b[0;34m\u001b[0m\u001b[0m\n\u001b[1;32m      6\u001b[0m             \u001b[0;32mreturn\u001b[0m \u001b[0msee\u001b[0m\u001b[0;34m\u001b[0m\u001b[0;34m\u001b[0m\u001b[0m\n",
      "\u001b[0;31mTypeError\u001b[0m: list indices must be integers or slices, not str"
     ]
    }
   ],
   "source": [
    "longestCommonPrefix(s)"
   ]
  },
  {
   "cell_type": "code",
   "execution_count": null,
   "metadata": {},
   "outputs": [],
   "source": [
    "def odd_count_sublist(num,k):\n",
    "    sol = {}\n",
    "    \n",
    "    for i in range(len(nums)):\n",
    "        sol.add(num[i])\n",
    "        \n",
    "        odd_count = 0\n",
    "        A_sol = []\n",
    "        \n",
    "        for j in (i,len(nums)):\n",
    "            if num[j] % 2 != 0:\n",
    "                odd_count += 1\n",
    "                if odd_count > k:\n",
    "                    break\n",
    "                \n",
    "                \n",
    "                \n",
    "            A_sol.append(num[j])\n",
    "            \n",
    "            \n",
    "    "
   ]
  },
  {
   "cell_type": "markdown",
   "metadata": {},
   "source": [
    "##### Pointers Reverse String\n"
   ]
  },
  {
   "cell_type": "code",
   "execution_count": 1,
   "metadata": {},
   "outputs": [],
   "source": [
    "def reverseString(Str):\n",
    "    \n",
    "    left_pointer = 0\n",
    "    right_pointer = len(Str) - 1\n",
    "    \n",
    "    while right_pointer - left_pointer >= 0:\n",
    "        Str[left_pointer], Str[right_pointer] = Str[right_pointer], Str[left_pointer]\n",
    "        left_pointer += 1\n",
    "        right_pointer -= 1\n",
    "            \n",
    "    return Str"
   ]
  },
  {
   "cell_type": "code",
   "execution_count": 2,
   "metadata": {},
   "outputs": [],
   "source": [
    "Input = [\"h\",\"e\",\"l\",\"l\",\"o\"]"
   ]
  },
  {
   "cell_type": "code",
   "execution_count": 3,
   "metadata": {},
   "outputs": [
    {
     "data": {
      "text/plain": [
       "['o', 'l', 'l', 'e', 'h']"
      ]
     },
     "execution_count": 3,
     "metadata": {},
     "output_type": "execute_result"
    }
   ],
   "source": [
    "reverseString(Input)"
   ]
  },
  {
   "cell_type": "code",
   "execution_count": 262,
   "metadata": {},
   "outputs": [
    {
     "data": {
      "text/plain": [
       "['h', 'a', 'n', 'n', 'a', 'H']"
      ]
     },
     "execution_count": 262,
     "metadata": {},
     "output_type": "execute_result"
    }
   ],
   "source": [
    "reverseString([\"H\",\"a\",\"n\",\"n\",\"a\",\"h\"])"
   ]
  },
  {
   "cell_type": "code",
   "execution_count": 49,
   "metadata": {},
   "outputs": [
    {
     "name": "stdout",
     "output_type": "stream",
     "text": [
      "[[1, 4], [2, 3], [4, 6]]\n"
     ]
    },
    {
     "data": {
      "text/plain": [
       "3"
      ]
     },
     "execution_count": 49,
     "metadata": {},
     "output_type": "execute_result"
    }
   ],
   "source": [
    "import numpy as np\n",
    "\n",
    "def divisibleSumPairs(n, k, ar):\n",
    "    store = []\n",
    "    for i in range(n):\n",
    "        for j in range(n):\n",
    "            if (ar[i] + ar[j]) % k == 0 and (i < j):\n",
    "                store.append([ar[i], ar[j]])\n",
    "    print(store)\n",
    "    return len(store)\n",
    "\n",
    "# Example\n",
    "ar = np.array([1,2,3,4,5,6])\n",
    "n = len(ar)\n",
    "divisibleSumPairs(n,5,ar)"
   ]
  },
  {
   "cell_type": "code",
   "execution_count": 1,
   "metadata": {},
   "outputs": [
    {
     "name": "stdout",
     "output_type": "stream",
     "text": [
      "Sorted dictionary: {5: 1, 11: 1, 8: 1, 1: 2, 2: 2, 9: 3, 3: 3, 4: 3}\n",
      "---------------------------------------------------------------------------------------------\n",
      "The dictionary {5: 1, 11: 1, 1: 2, 2: 2, 9: 3, 3: 3, 4: 3, 8: 1}\n",
      "--------------------------------------------------------------------------------------------\n",
      "dict_items([(5, 1), (11, 1), (1, 2), (2, 2), (9, 3), (3, 3), (4, 3), (8, 1)])\n",
      "----------------------------------------------------------------------------------------------\n",
      "The smallet key with the maximum elemet is: 3\n"
     ]
    }
   ],
   "source": [
    "import numpy as np\n",
    "\n",
    "def migratoryBirds(arr):\n",
    "    dic = {}                # get the elements and their respective counts ina dictionary\n",
    "    for i in arr:\n",
    "        if i not in dic:\n",
    "            dic[i] = 1\n",
    "        else:\n",
    "            dic[i] = dic[i] + 1\n",
    "     \n",
    "    # How to sort a dictionary by value\n",
    "    print('Sorted dictionary:',{k: v for k, v in sorted(dic.items(), key=lambda item: item[1])})\n",
    "    print('---------------------------------------------------------------------------------------------')\n",
    "    initial_k, initial_v = arr[0], dic[arr[0]]      # randomly pick any initialization\n",
    "    for k,v in dic.items():\n",
    "        if (v > initial_v) or (v == initial_v and k < initial_k):   # note all the conditions\n",
    "            initial_k, initial_v = k, v\n",
    "            \n",
    "    print('The dictionary' ,dic)\n",
    "    print(\"--------------------------------------------------------------------------------------------\")\n",
    "    print(dic.items())\n",
    "    print(\"----------------------------------------------------------------------------------------------\")\n",
    "    print('The smallet key with the maximum elemet is:', initial_k)      \n",
    "    \n",
    "    \n",
    "# Example\n",
    "arr = np.array([5 ,11, 1, 2,9,9,9, 3, 4, 8, 4, 3, 2, 1, 3, 4])\n",
    "migratoryBirds(arr)"
   ]
  },
  {
   "cell_type": "code",
   "execution_count": 2,
   "metadata": {},
   "outputs": [
    {
     "name": "stdout",
     "output_type": "stream",
     "text": [
      "5\n",
      "\n",
      "--------------------------------------------------------------------------------------\n",
      "Bon Appetit\n"
     ]
    }
   ],
   "source": [
    "##Anna and Brian are sharing a meal at a restuarant and they agree to split the bill equally. \n",
    "##Brian wants to order something that Anna is allergic to though, and they agree that Anna won't pay for that item. \n",
    "##Brian gets the check and calculates Anna's portion. You must determine if his calculation is correct.\n",
    "\n",
    "# bill: an array of integers representing the cost of each item ordered \n",
    "# k: is an integer representing the zero-based index of the item Anna doesn't eat\n",
    "# b: is the amount of money that Anna contributed to the bill   \n",
    "\n",
    "def bonAppetit(bill, k, b):  \n",
    "    Ann_allegic = bill[k]                    # locating the item Anna doesn't want to eat      \n",
    "    Anns_new_pay = (sum(bill) - Ann_allegic)//2  # Deductin the cost of Anna's allegic item from the initially money Anna contibuted\n",
    "    if b == Anns_new_pay:                        # if the new_cost == the money that Anna initially contributed to the bill \n",
    "        return ('Bon Appetit')\n",
    "    else:\n",
    "        return (b - Anns_new_pay)                # deduct Anns_new_pay from the initial contribution she made, this would be the amount \n",
    "                                                 # Brain would refund Anna\n",
    "        \n",
    "        \n",
    "# Example\n",
    "print(bonAppetit([3,10,2,9],1,12))\n",
    "print()\n",
    "print(\"--------------------------------------------------------------------------------------\")\n",
    "print(bonAppetit([2,4,6],2,3))"
   ]
  },
  {
   "cell_type": "code",
   "execution_count": 3,
   "metadata": {
    "scrolled": true
   },
   "outputs": [
    {
     "name": "stdout",
     "output_type": "stream",
     "text": [
      "Brain's bill is: [3, 10, 2, 9]\n",
      "Anna's bill is: [3, 2, 9]\n",
      "5\n",
      "\n",
      "--------------------------------------------------------------------------------------\n",
      "Brain's bill is: [2, 4, 6]\n",
      "Anna's bill is: [2, 4]\n",
      "Bon Appetit\n"
     ]
    }
   ],
   "source": [
    "def bonAppetit(bill, k, b):  \n",
    "    Ann_allegic = bill[k]\n",
    "    brians_pay = sum(bill)//2\n",
    "    Anns_pay = (sum(bill) - Ann_allegic)//2\n",
    "    print(\"Brain's bill is:\", bill)\n",
    "    ann_bill = bill.pop(k)\n",
    "    print(\"Anna's bill is:\",bill)\n",
    "    \n",
    "    if b == Anns_pay:                        \n",
    "        return ('Bon Appetit')\n",
    "    else:\n",
    "        return (b - Anns_pay)                \n",
    "        \n",
    "        \n",
    "# Example\n",
    "print(bonAppetit([3,10,2,9],1,12))\n",
    "print()\n",
    "print(\"--------------------------------------------------------------------------------------\")\n",
    "print(bonAppetit([2,4,6],2,3))"
   ]
  },
  {
   "cell_type": "code",
   "execution_count": 9,
   "metadata": {},
   "outputs": [
    {
     "name": "stdout",
     "output_type": "stream",
     "text": [
      "This is the dictinary: {9: 1, 10: 4, 20: 3, 30: 1, 50: 1}\n",
      "------------------------------------------------------------\n",
      "This is are the pairs: [{9: 0}, {10: 2}, {20: 1}, {30: 0}, {50: 0}]\n",
      "------------------------------------------------------------\n",
      "This is are the pair_count: [0, 2, 1, 0, 0]\n",
      "------------------------------------------------------------\n",
      "Summing all the pair count, we have: 3\n"
     ]
    }
   ],
   "source": [
    "#John works at a clothing store. He has a large pile of socks that he must pair by color for sale. \n",
    "#Given an array of integers representing the color of each sock,\n",
    "#determine how many pairs of socks with matching colors there are.\n",
    "\n",
    "def sockMerchant(n, ar):\n",
    "    n = len(ar)\n",
    "    dic = {i:ar.count(i) for i in ar}\n",
    "    pair = []\n",
    "    pair_count = []\n",
    "    for i,j in dic.items():\n",
    "        count = j//2\n",
    "        pair.append({i:count})\n",
    "        pair_count.append(count)\n",
    "        \n",
    "    print('This is the dictinary:',dic)\n",
    "    print(\"------------------------------------------------------------\")\n",
    "    print('This is are the pairs:',pair)\n",
    "    print(\"------------------------------------------------------------\")\n",
    "    print('This is are the pair_count:',pair_count)\n",
    "    print(\"------------------------------------------------------------\")\n",
    "    print ('Summing all the pair count, we have:',sum(pair_count))\n",
    "\n",
    "\n",
    "# Examples\n",
    "#ar = [1,2,1,2,1,3,2]\n",
    "ar = [9,10, 20, 20, 10, 10, 30, 50, 10, 20]\n",
    "sockMerchant(len(ar),ar)"
   ]
  },
  {
   "cell_type": "code",
   "execution_count": 391,
   "metadata": {},
   "outputs": [
    {
     "name": "stdout",
     "output_type": "stream",
     "text": [
      "c would have to jump 3 times:\n",
      "---------------------------------------------------------------\n",
      "d would have to jump 6 times:\n"
     ]
    }
   ],
   "source": [
    "\"\"\"\n",
    "Emma is playing a new mobile game that starts with consecutively numbered clouds. \n",
    "Some of the clouds are thunderheads and others are cumulus. \n",
    "She can jump on any cumulus cloud having a number that is equal to the number of the \n",
    "current cloud plus $1$ or $2$ . She must avoid the thunderheads.\n",
    "Determine the minimum number of jumps it will take Emma to jump from her \n",
    "starting postion to the last cloud. It is always possible to win the game.\n",
    "\n",
    "\"\"\"\n",
    "def jumpingOnClouds(c):\n",
    "    jump = 0\n",
    "    count = 0\n",
    "    \n",
    "    while jump < len(c)-1:\n",
    "        if jump+2 < len(c) and c[jump+2] == 0:\n",
    "            jump+= 2\n",
    "        else:\n",
    "            jump+= 1\n",
    "        count += 1\n",
    "    return count\n",
    "\n",
    "# Examples\n",
    "c = [0,1,0,0,0,1,0]\n",
    "d = [0, 0, 1, 0, 0, 0, 0, 1, 0, 0]\n",
    "print(\"c would have to jump {} times:\".format(jumpingOnClouds(c))) \n",
    "print(\"---------------------------------------------------------------\")\n",
    "print(\"d would have to jump {} times:\".format(jumpingOnClouds(d)))"
   ]
  },
  {
   "cell_type": "code",
   "execution_count": 180,
   "metadata": {},
   "outputs": [],
   "source": [
    "import numpy as np"
   ]
  },
  {
   "cell_type": "code",
   "execution_count": 216,
   "metadata": {},
   "outputs": [
    {
     "name": "stdout",
     "output_type": "stream",
     "text": [
      "[120, 60, 40, 30, 24]\n",
      "---------------------------------\n",
      "[2, 3, 6]\n"
     ]
    }
   ],
   "source": [
    "'''\n",
    "Given an array of integers, return a new array such that each element at index i of the new array is the product of all the numbers in the original array except the one at i.\n",
    "\n",
    "For example, if our input was [1, 2, 3, 4, 5], the expected output would be [120, 60, 40, 30, 24]. If our input was [3, 2, 1], the expected output would be [2, 3, 6].\n",
    "\n",
    "Follow-up: what if you can't use division?\n",
    "'''\n",
    "def mulSpecial(arr):\n",
    "    lisst = []\n",
    "    for j in range(len(arr)):\n",
    "        arr2 = np.delete(arr, j)\n",
    "        result = np.prod(arr2)\n",
    "        lisst.append(result)\n",
    "    return lisst\n",
    "\n",
    "# Example\n",
    "arr1 = np.array([1,2,3,4,5])\n",
    "arr2 = np.array([3,2,1])\n",
    "print(mulSpecial(arr1))\n",
    "print(\"---------------------------------\")\n",
    "print(mulSpecial(arr2))"
   ]
  },
  {
   "cell_type": "code",
   "execution_count": 122,
   "metadata": {},
   "outputs": [
    {
     "name": "stdout",
     "output_type": "stream",
     "text": [
      "defaultdict(<class 'list'>, {3: [0, 4], 2: [1, 3], 1: [2]})\n",
      "\n",
      "\n",
      "First method: 2\n",
      "-----------------------Below is efficiency of O(n^2)---------------------------\n",
      "Second method: 2\n"
     ]
    }
   ],
   "source": [
    "'''\n",
    "We define the distance between two array values as the number of indices\n",
    "between the two values. Given , find the minimum distance between any pair \n",
    "of equal elements in the array. If no such value exists, print -1\n",
    "'''\n",
    "\n",
    "from collections import defaultdict\n",
    "def minimumDistances_1(a):\n",
    "    dic = defaultdict(list)     # create a default dictionary to have each value as the key and the index of that sam value in a list(print below to see well)\n",
    "    list_min = []\n",
    "    \n",
    "    for idx,val in enumerate(a):\n",
    "        dic[val] += [idx]\n",
    "    print(dic)\n",
    "    print(\"\\n\")\n",
    "        \n",
    "    for key in dic:\n",
    "        if len(dic[key]) > 1:   # since we are concerned with indexes with double values, then we take keys having list of more than 1 element\n",
    "            indices = dic[key]  # e.g key 3, hase 2 values as seen below\n",
    "            distance = abs(indices[0] - indices[1])  # find the difference between this two values (use abs() to make it positive)\n",
    "            list_min.append(distance)      # append into the empty list created above\n",
    "            \n",
    "\n",
    "    if len(list_min) > 0:                 #only print the minimum value from that list\n",
    "        return min(list_min)\n",
    "    return -1                             # if all the above condition is not met, print -1\n",
    "\n",
    "# Note that the above efficiency is O(n)\n",
    "# we can also have O(n^2) bellow ( although not efficient)\n",
    "\n",
    "\n",
    "def minimumDistances_2(a):\n",
    "    start = 0\n",
    "    list_ = []\n",
    "    for i in range(len(a)):\n",
    "        for j in range(len(a)):\n",
    "            if i != j and a[i] == a[j]:\n",
    "                distance = abs(i - j)\n",
    "                list_.append(distance)\n",
    "    \n",
    "    if len(list_) > 0:\n",
    "        return min(list_)\n",
    "              \n",
    "    return -1\n",
    "\n",
    "#Example\n",
    "print(\"First method:\",minimumDistances_1([3,2,1,2,3]))\n",
    "\n",
    "print(\"-----------------------Below is efficiency of O(n^2)---------------------------\")\n",
    "\n",
    "print(\"Second method:\", minimumDistances_2([3,2,1,2,3]))"
   ]
  },
  {
   "cell_type": "code",
   "execution_count": 206,
   "metadata": {},
   "outputs": [],
   "source": [
    "def howManyGames(p, d, m, s):\n",
    "    listt = [i for i in range(100)]\n",
    "    \n",
    "    for n in listt:\n",
    "        ap = p + ((n - 1)*-d)\n",
    "        if ap < m:\n",
    "            sum_ap = ap/2 * ((2*p + (ap - 1) * -d))\n",
    "            print(ap,sum_ap)\n",
    "            if s>sum_ap:\n",
    "                rem = (s-sum_ap)//m\n",
    "                return ap+rem\n",
    "            if s<\n",
    "            return ap\n",
    "            \n",
    "        "
   ]
  },
  {
   "cell_type": "code",
   "execution_count": 66,
   "metadata": {},
   "outputs": [
    {
     "name": "stdout",
     "output_type": "stream",
     "text": [
      "[20, 17, 14, 11, 8]\n",
      "70\n"
     ]
    },
    {
     "data": {
      "text/plain": [
       "7"
      ]
     },
     "execution_count": 66,
     "metadata": {},
     "output_type": "execute_result"
    }
   ],
   "source": [
    "#howManyGames(100, 1, 1, 99)\n",
    "#howManyGames(100, 19, 1, 180)\n",
    "howManyGames(20, 3, 6, 85)"
   ]
  },
  {
   "cell_type": "code",
   "execution_count": 136,
   "metadata": {},
   "outputs": [
    {
     "name": "stdout",
     "output_type": "stream",
     "text": [
      "1\n",
      "1\n"
     ]
    }
   ],
   "source": [
    "'''\n",
    "You wish to buy video games from the famous online video game store Mist.\n",
    "\n",
    "Usually, all games are sold at the same price, \"p\" dollars.\n",
    "However, they are planning to have the seasonal Halloween Sale next month in which you can buy games at a cheaper price. \n",
    "Specifically, the first game you buy during the sale will be\n",
    "sold at \"p\"  dollars, but every subsequent game you buy will be sold at \n",
    "exactly \"d\"  dollars less than the cost of the previous one you bought. This will continue until the cost becomes less than or equal to \"m\" dollars,\n",
    "after which every game you buy will cost  dollars each.\n",
    "'''\n",
    "def howManyGames_1(p, d, m, s):\n",
    "    if s<p:\n",
    "        return 0\n",
    "    list_ = [p]\n",
    "    while p > m and p-m >= d:\n",
    "        p -= d\n",
    "        list_.append(p)\n",
    "    sum_list = sum(list_)\n",
    "    if s >= sum_list:\n",
    "        rem = (s-sum_list)//m\n",
    "        return len(list_)+rem\n",
    "    # now lets attend to the case were s < sum_list\n",
    "    sum_list = 0\n",
    "    for i, v in enumerate(list_):\n",
    "        sum_list += v\n",
    "        if sum_list > s:\n",
    "            return i\n",
    "    return len(list_)\n",
    "\n",
    "   \n",
    "def howManyGames_2(p, d, m, s):\n",
    "    count = 0\n",
    "    while s >= m and s >= p:\n",
    "        s -= p\n",
    "        p -= d\n",
    "        if p <= m:\n",
    "            p = m\n",
    "        count += 1\n",
    "    return count\n",
    "    \n",
    "    \n",
    "# Example\n",
    "print(howManyGames_1(100, 19, 1, 180))\n",
    "print(howManyGames_2(100, 19, 1, 180))"
   ]
  },
  {
   "cell_type": "code",
   "execution_count": null,
   "metadata": {},
   "outputs": [],
   "source": []
  }
 ],
 "metadata": {
  "kernelspec": {
   "display_name": "Python 3",
   "language": "python",
   "name": "python3"
  },
  "language_info": {
   "codemirror_mode": {
    "name": "ipython",
    "version": 3
   },
   "file_extension": ".py",
   "mimetype": "text/x-python",
   "name": "python",
   "nbconvert_exporter": "python",
   "pygments_lexer": "ipython3",
   "version": "3.7.3"
  }
 },
 "nbformat": 4,
 "nbformat_minor": 2
}
