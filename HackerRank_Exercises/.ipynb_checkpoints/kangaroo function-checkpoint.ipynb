{
 "cells": [
  {
   "cell_type": "code",
   "execution_count": 8,
   "metadata": {},
   "outputs": [],
   "source": [
    "'''You are choreographing a circus show with various animals. For one act, you are given two kangaroos on a number line ready to jump in the positive direction (i.e, toward positive infinity).\n",
    "\n",
    "    The first kangaroo starts at location x1 and moves at a rate v1 of meters per jump.\n",
    "    The first kangaroo starts at location x2 and moves at a rate v2 of meters per jump.\n",
    "    \n",
    "You have to figure out a way to get both kangaroos at the same location at the same time as part of the show. If it is possible, return YES, otherwise return NO.'''\n",
    "\n",
    "def kangaroo_3(x1, v1, x2, v2):\n",
    "    \n",
    "    # x1 + n*v1 = x2 + n*v2, it implies that n = (x2 - x1) / (v1 - v2) \n",
    "    \n",
    "    num = x2 - x1\n",
    "    dem = v1 - v2\n",
    "    if dem == 0 or (num%dem != 0 or num/dem < 0):\n",
    "        return 'NO'            \n",
    "    return 'YES' \n",
    "\n",
    "\n",
    "# Arithmetric progression method\n",
    "def kangaroo_2(x1, v1, x2, v2):\n",
    "    def get_value(a,n,d):\n",
    "        return a + (n - 1)*d\n",
    "    \n",
    "    if x1 > x2:                      # What if the numbers are interchanged?\n",
    "        x1, v1, x2, v2 = x2, v2, x1, v1    \n",
    "    n = 1\n",
    "    if v2 > v1:\n",
    "        return ('NO')\n",
    "    \n",
    "        \n",
    "    while True:\n",
    "        k1,k2 = get_value(x1,n,v1) , get_value(x2,n,v2)   # This is the formular for Arithmetic Progression\n",
    "                \n",
    "        if k1 == k2:\n",
    "            return 'YES'\n",
    "        if k1 > k2:\n",
    "                return 'NO'\n",
    "        n += 1\n",
    "\n"
   ]
  },
  {
   "cell_type": "code",
   "execution_count": 6,
   "metadata": {},
   "outputs": [
    {
     "name": "stdout",
     "output_type": "stream",
     "text": [
      "YES\n",
      "YES\n",
      "NO\n"
     ]
    }
   ],
   "source": [
    "print(kangaroo_1(0, 3 ,4 ,2)) \n",
    "\n",
    "print(kangaroo_1(4, 2 ,0,3))  # Intercahnging the numbers above\n",
    " \n",
    "print(kangaroo_1(0,2,5,3))"
   ]
  },
  {
   "cell_type": "code",
   "execution_count": 7,
   "metadata": {},
   "outputs": [
    {
     "name": "stdout",
     "output_type": "stream",
     "text": [
      "YES\n",
      "YES\n",
      "NO\n"
     ]
    }
   ],
   "source": [
    "print(kangaroo_2(0, 3 ,4 ,2)) \n",
    "\n",
    "print(kangaroo_2(4, 2 ,0,3))  # Intercahnging the numbers above\n",
    " \n",
    "print(kangaroo_2(0,2,5,3))"
   ]
  }
 ],
 "metadata": {
  "kernelspec": {
   "display_name": "Python 3",
   "language": "python",
   "name": "python3"
  },
  "language_info": {
   "codemirror_mode": {
    "name": "ipython",
    "version": 3
   },
   "file_extension": ".py",
   "mimetype": "text/x-python",
   "name": "python",
   "nbconvert_exporter": "python",
   "pygments_lexer": "ipython3",
   "version": "3.7.3"
  }
 },
 "nbformat": 4,
 "nbformat_minor": 2
}
