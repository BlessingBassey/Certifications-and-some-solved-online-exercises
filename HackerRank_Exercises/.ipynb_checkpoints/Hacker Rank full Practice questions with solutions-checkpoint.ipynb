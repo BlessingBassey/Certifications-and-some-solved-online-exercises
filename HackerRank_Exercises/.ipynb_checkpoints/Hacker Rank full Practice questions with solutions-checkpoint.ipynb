{
 "cells": [
  {
   "cell_type": "code",
   "execution_count": 52,
   "metadata": {},
   "outputs": [
    {
     "name": "stdout",
     "output_type": "stream",
     "text": [
      "3\n",
      "4\n",
      "The sum is equal 7\n"
     ]
    }
   ],
   "source": [
    "#Complete the function solveMeFirst to compute the sum of two integers.\n",
    "def summ(x,y):\n",
    "    return x+y\n",
    "\n",
    "first_num = int(input())\n",
    "second_num = int(input())\n",
    "result = summ(first_num,second_num)\n",
    "\n",
    "print('The sum is equal',result)\n"
   ]
  },
  {
   "cell_type": "code",
   "execution_count": 54,
   "metadata": {},
   "outputs": [
    {
     "data": {
      "text/plain": [
       "15"
      ]
     },
     "execution_count": 54,
     "metadata": {},
     "output_type": "execute_result"
    }
   ],
   "source": [
    "#Given an array of integers, find the sum of its elements.\n",
    "import os\n",
    "import sys\n",
    "\n",
    "def simpleArraySum(ar):\n",
    "    summ = 0\n",
    "    for i in range(len(ar)):\n",
    "        summ += ar[i]\n",
    "    return summ \n",
    "\n",
    "#Example\n",
    "simpleArraySum([1,2,3,4,5])\n",
    " \n",
    "   "
   ]
  },
  {
   "cell_type": "code",
   "execution_count": 55,
   "metadata": {},
   "outputs": [
    {
     "data": {
      "text/plain": [
       "[1, 2]"
      ]
     },
     "execution_count": 55,
     "metadata": {},
     "output_type": "execute_result"
    }
   ],
   "source": [
    "#Comapring each element in 2 list, which ever is bigger receives a point, if they are equal, no point for any one\n",
    "# i.e  comparing triplet\n",
    "import numpy as np\n",
    "def compareTriplets(a, b):\n",
    "    Alice =0\n",
    "    Bob = 0\n",
    "\n",
    "    for i in range(len(b)):        \n",
    "        if a[i] > b[i]:\n",
    "            Alice+=1\n",
    "        elif a[i] == b[i]:\n",
    "            print('Nobody receives a point')\n",
    "        elif a[i] < b[i]:\n",
    "            Bob+=1\n",
    "    return [Alice,Bob]\n",
    "\n",
    "#Example\n",
    "a = np.array([1,2,3])\n",
    "b = np.array([3,4,2])\n",
    "\n",
    "compareTriplets(a, b)"
   ]
  },
  {
   "cell_type": "code",
   "execution_count": 57,
   "metadata": {},
   "outputs": [
    {
     "data": {
      "text/plain": [
       "9"
      ]
     },
     "execution_count": 57,
     "metadata": {},
     "output_type": "execute_result"
    }
   ],
   "source": [
    "# Complete the aVeryBigSum function below.\n",
    "def aVeryBigSum(ar):\n",
    "    summmmm = 0\n",
    "    for i in ar:\n",
    "        summmmm = summmmm + i\n",
    "    return summmmm\n",
    "\n",
    "#Example\n",
    "Big = np.array([2,3,4])\n",
    "aVeryBigSum (Big)"
   ]
  },
  {
   "cell_type": "code",
   "execution_count": 198,
   "metadata": {},
   "outputs": [],
   "source": [
    "def matrixdiagonal_1(arr):\n",
    "    left = 0\n",
    "    right = 0\n",
    "    for i in range(len(arr)):\n",
    "        for j in range(len(arr)):\n",
    "            \n",
    "            if i==j:\n",
    "                left += arr[i,j]\n",
    "            \n",
    "            if i+j == len(arr)-1:\n",
    "                    right += arr[i,j]\n",
    "                    \n",
    "    diff = left-right                \n",
    "    print(left)\n",
    "    print(right)\n",
    "    return diff\n",
    "                \n",
    "    "
   ]
  },
  {
   "cell_type": "code",
   "execution_count": 199,
   "metadata": {
    "scrolled": true
   },
   "outputs": [
    {
     "data": {
      "text/plain": [
       "array([[ 2, 44,  4],\n",
       "       [ 5,  6,  7],\n",
       "       [ 3,  5,  6]])"
      ]
     },
     "execution_count": 199,
     "metadata": {},
     "output_type": "execute_result"
    }
   ],
   "source": [
    "r = np.array([[2,44,4],[5,6,7],[3,5,6]])\n",
    "r"
   ]
  },
  {
   "cell_type": "code",
   "execution_count": 200,
   "metadata": {},
   "outputs": [
    {
     "name": "stdout",
     "output_type": "stream",
     "text": [
      "14\n",
      "13\n"
     ]
    },
    {
     "data": {
      "text/plain": [
       "1"
      ]
     },
     "execution_count": 200,
     "metadata": {},
     "output_type": "execute_result"
    }
   ],
   "source": [
    "matrixdiagonal_1(r)\n"
   ]
  },
  {
   "cell_type": "code",
   "execution_count": 214,
   "metadata": {},
   "outputs": [
    {
     "data": {
      "text/plain": [
       "1"
      ]
     },
     "execution_count": 214,
     "metadata": {},
     "output_type": "execute_result"
    }
   ],
   "source": [
    "def matrixdiagonal_2(arr):\n",
    "    n = len(arr)\n",
    "    left = 0\n",
    "    right = 0\n",
    "    for i in range(n):\n",
    "        left += arr[i, i]\n",
    "        right += arr[i, n - i - 1]\n",
    "        #print(left)\n",
    "        #print(right)\n",
    "\n",
    "    return left-right\n",
    "\n",
    "matrixdiagonal_2(r)"
   ]
  },
  {
   "cell_type": "code",
   "execution_count": 213,
   "metadata": {},
   "outputs": [
    {
     "name": "stdout",
     "output_type": "stream",
     "text": [
      "14\n",
      "13\n"
     ]
    },
    {
     "data": {
      "text/plain": [
       "1"
      ]
     },
     "execution_count": 213,
     "metadata": {},
     "output_type": "execute_result"
    }
   ],
   "source": [
    "def diagonalDifference(arr):\n",
    "    # Write your code here\n",
    "\n",
    "    n = len(arr)\n",
    "    left = 0\n",
    "    right = 0\n",
    "    for i in range(n):\n",
    "        left += arr[i][i]\n",
    "        right += arr[i][n - i - 1]\n",
    "        #print(left)\n",
    "        #print(right)\n",
    "\n",
    "    return abs(left-right)\n"
   ]
  },
  {
   "cell_type": "code",
   "execution_count": 215,
   "metadata": {},
   "outputs": [
    {
     "name": "stdout",
     "output_type": "stream",
     "text": [
      "0.500000\n",
      "0.333333\n",
      "0.166667\n"
     ]
    }
   ],
   "source": [
    "import math \n",
    "\n",
    "def plusMinus(arr):\n",
    "    positive_num = []\n",
    "    negavtive_num = []\n",
    "    zeros = []\n",
    "    \n",
    "    for i in (arr):\n",
    "        if i > 0:\n",
    "            positive_num.append(i)\n",
    "        if i < 0:\n",
    "            negavtive_num.append(i)\n",
    "        if i == 0:\n",
    "            zeros.append(i)\n",
    "    a = len(positive_num)/len(arr)\n",
    "    b = len(negavtive_num)/len(arr)\n",
    "    c = len(zeros)/len(arr)\n",
    "            \n",
    "    #return positive_num,negavtive_num,zeros\n",
    "    #print round((a,6),(b,6),(c,6))\n",
    "    \n",
    "    print (end=\"\") \n",
    "    print (\"{0:.6f}\".format(a)) \n",
    "    \n",
    "    print (end=\"\") \n",
    "    print (\"{0:.6f}\".format(b))\n",
    "    \n",
    "    print (end=\"\") \n",
    "    print (\"{0:.6f}\".format(c))\n",
    "\n",
    "    \n",
    "# Example\n",
    "a = np.array([-4, 3, -9 ,0, 4, 1])\n",
    "plusMinus(a)\n",
    "    \n",
    "    "
   ]
  },
  {
   "cell_type": "code",
   "execution_count": 218,
   "metadata": {},
   "outputs": [
    {
     "name": "stdout",
     "output_type": "stream",
     "text": [
      "     #\n",
      "    ##\n",
      "   ###\n",
      "  ####\n",
      " #####\n",
      "######\n"
     ]
    }
   ],
   "source": [
    "def staircase(n):\n",
    "    for i in range(1,n+1):        \n",
    "        print(\" \"*(n-i) + '#'*i)\n",
    "\n",
    "        \n",
    "# Example\n",
    "staircase(6)     "
   ]
  },
  {
   "cell_type": "code",
   "execution_count": null,
   "metadata": {},
   "outputs": [],
   "source": [
    "def miniMaxSum1(arr):\n",
    "    sorting = sorted(arr)\n",
    "    min_list = sorting[0:-1]\n",
    "\n",
    "    max_list = sorting[1:]\n",
    "\n",
    "    minni = 0\n",
    "    maxxi = 0\n",
    "    \n",
    "\n",
    "    for i in (min_list):\n",
    "        minni += i\n",
    "    \n",
    "    for j in (max_list):\n",
    "        maxxi += j\n",
    "    final = minni,maxxi\n",
    "    print(minni,maxxi)\n",
    "    \n",
    "#This code above can be optimize as follows, for better computational complexity.\n",
    "    \n",
    "    \n",
    "def miniMaxSum2(arr):\n",
    "    min=10**10\n",
    "    max = -1\n",
    "    idx_min=-1\n",
    "    idx_max=-1\n",
    "    \n",
    "    for i, x in enumerate(arr):\n",
    "        if min>x:\n",
    "            min=x\n",
    "            idx_min=i\n",
    "        if max<x:\n",
    "            max=x\n",
    "            idx_max=i\n",
    "    \n",
    "    minni = sum([arr[i] for i in range(len(arr))  if i!= idx_max])\n",
    "    maxxi = sum([arr[i] for i in range(len(arr))  if i!= idx_min])\n",
    "\n",
    "    print(minni,maxxi) \n",
    "\n",
    "\n",
    "b = [random.randint(1,100) for i in range(10**7)]\n",
    "        \n",
    "miniMaxSum1(b)    \n",
    "miniMaxSum2(b)"
   ]
  },
  {
   "cell_type": "code",
   "execution_count": 4,
   "metadata": {},
   "outputs": [
    {
     "data": {
      "text/plain": [
       "2"
      ]
     },
     "execution_count": 4,
     "metadata": {},
     "output_type": "execute_result"
    }
   ],
   "source": [
    "import numpy as np\n",
    "\n",
    "def birthdayCakeCandles(ar):\n",
    "    sorting = sorted(ar)\n",
    "    max_candle = sorting[-1]\n",
    "    max_candles = []\n",
    "    \n",
    "    for i in sorting:\n",
    "        if i == max_candle:\n",
    "            max_candles.append(i)\n",
    "    return len(max_candles)\n",
    "\n",
    "# This can be optizes as follows\n",
    "\n",
    "def birthdayCakeCandles2(ar):\n",
    "    max_candle = -1\n",
    "    max_candles = 0\n",
    "    for i in ar: \n",
    "        if i > max_candle:\n",
    "            max_candle = i\n",
    "            max_candles = 1\n",
    "        elif i == max_candle:\n",
    "            max_candles +=1\n",
    "    return max_candles\n",
    "\n",
    "# Example\n",
    "c = np.array([2,3,6,1,4,6,1,5])\n",
    "birthdayCakeCandles2(c)"
   ]
  },
  {
   "cell_type": "code",
   "execution_count": 2,
   "metadata": {},
   "outputs": [
    {
     "data": {
      "text/plain": [
       "'12:45:54'"
      ]
     },
     "execution_count": 2,
     "metadata": {},
     "output_type": "execute_result"
    }
   ],
   "source": [
    "# Changing time from 12 hours to 24 hours\n",
    "import numpy as np\n",
    "def timeConversion(s):\n",
    "    hh,mm,ss = s.split(':')\n",
    "    hh = s.split(':')[0]\n",
    "    #ss[-2] = AM or PM\n",
    "    \n",
    "    if hh == '12' and ss[-2:] == 'AM':\n",
    "        hh = '00'\n",
    "    if hh!= '12' and ss[-2:] == 'PM':\n",
    "        hh = str(int(hh) + 12)\n",
    "        \n",
    "    return hh + ':' + mm + ':'+ ss[:-2]\n",
    "    \n",
    "# Example\n",
    "b = '12:45:54PM'\n",
    "timeConversion(b)"
   ]
  },
  {
   "cell_type": "code",
   "execution_count": 3,
   "metadata": {},
   "outputs": [
    {
     "data": {
      "text/plain": [
       "[75, 67, 40, 33]"
      ]
     },
     "execution_count": 3,
     "metadata": {},
     "output_type": "execute_result"
    }
   ],
   "source": [
    "'''Given the initial value of grade for each of Sam's students, write code to automate the rounding process.\n",
    "\n",
    "Function Description\n",
    "\n",
    "Complete the function gradingStudents in the editor below. It should return an integer array consisting of rounded grades.\n",
    "\n",
    "gradingStudents has the following parameter(s):\n",
    "\n",
    "    grades: an array of integers representing grades before rounding\n",
    "'''\n",
    "import numpy as np\n",
    "def gradingStudents1(grades):\n",
    "    for i in range(len(grades)):\n",
    "            \n",
    "\n",
    "        if grades[i] < 38:\n",
    "            grades[i] = grades[i]\n",
    "\n",
    "            # since thr lecturer can only add at most 2 marks, hence, we have the following\n",
    "        if grades[i] >= 38:\n",
    "            round_up_1 = grades[i] + 1\n",
    "            round_up_2 = grades[i] + 2\n",
    "\n",
    "\n",
    "        if grades[i] >= 38 and (round_up_1)%5 == 0:\n",
    "            grades[i] = round_up_1\n",
    "\n",
    "        if grades[i] >= 38 and (round_up_2)%5 == 0:\n",
    "            grades[i] = round_up_2\n",
    "\n",
    "        if grades[i] >= 38 and (round_up_1)%5 != 0:\n",
    "            grades[i] = grades[i]\n",
    "            \n",
    "        if grades[i] >= 38 and (round_up_2)%5 != 0:\n",
    "            grades[i] = grades[i]\n",
    "        \n",
    "    return grades\n",
    "\n",
    "# example\n",
    "gradingStudents1([73,67,38,33])"
   ]
  },
  {
   "cell_type": "code",
   "execution_count": 4,
   "metadata": {},
   "outputs": [
    {
     "name": "stdout",
     "output_type": "stream",
     "text": [
      "1\n",
      "1\n"
     ]
    }
   ],
   "source": [
    "import numpy as np\n",
    "# def countApplesAndOranges(s, t, a, b, apples, oranges):\n",
    "# #     house_start_point = s\n",
    "# #     house_end_point = t\n",
    "# #     location_apple = a\n",
    "# #     location_orange = b\n",
    "# #     distance_apple = apples\n",
    "# #     distance_orange = oranges\n",
    "    \n",
    "def countApplesAndOranges(s, t, a, b, apples, oranges):\n",
    "    count_apple = []\n",
    "    count_orange = []\n",
    "    num_apple = 0\n",
    "    num_orange = 0\n",
    "    \n",
    "    for i in range(len(apples)):\n",
    "        count1 = apples[i] + a\n",
    "        count_apple.append(count1)\n",
    "        \n",
    "        if (count_apple[i] >= s) and  (count_apple[i] <= t):\n",
    "            num_apple += 1\n",
    "        \n",
    "    for k in range(len(oranges)):\n",
    "        count2 = oranges[k] + b\n",
    "        count_orange.append(count2)\n",
    "        \n",
    "        if (count_orange[k] >= s) and (count_orange[k] <= t):\n",
    "            num_orange += 1\n",
    "     \n",
    "        \n",
    "    print(num_apple)\n",
    "    print(num_orange)\n",
    "    \n",
    "countApplesAndOranges(7, 11, 5, 15, [-2,2,1], [5,-6])"
   ]
  },
  {
   "cell_type": "code",
   "execution_count": null,
   "metadata": {},
   "outputs": [],
   "source": []
  },
  {
   "cell_type": "code",
   "execution_count": 55,
   "metadata": {},
   "outputs": [],
   "source": [
    "# This is the first approach\n",
    "\n",
    "'''You are choreographing a circus show with various animals. For one act, you are given two kangaroos on a number line ready to jump in the positive direction (i.e, toward positive infinity).\n",
    "\n",
    "    The first kangaroo starts at location x1 and moves at a rate v1 of meters per jump.\n",
    "    The first kangaroo starts at location x2 and moves at a rate v2 of meters per jump.\n",
    "    \n",
    "You have to figure out a way to get both kangaroos at the same location at the same time as part of the show. If it is possible, return YES, otherwise return NO.'''\n",
    "\n",
    "def kangaroo_1(x1, v1, x2, v2):\n",
    "    \n",
    "    if x1 > x2:\n",
    "        x1, v1, x2, v2 = x2, v2, x1, v1   # What if the values are interchanged, will it still give the same answer?\n",
    "        \n",
    "    if x1 < x2 and v2 > v1:\n",
    "        return ('NO')\n",
    "    \n",
    "    while True:\n",
    "        if x1 == x2:\n",
    "            return 'YES'\n",
    "        x1 += v1\n",
    "        x2 += v2\n",
    "        \n",
    "        if x1 > x2:\n",
    "            return 'NO'\n",
    "\n",
    "def kangaroo_2(x1, v1, x2, v2):\n",
    "    def get_value(a,n,d):\n",
    "        return a + (n - 1)*d\n",
    "    \n",
    "    if x1 > x2:\n",
    "        x1, v1, x2, v2 = x2, v2, x1, v1\n",
    "    \n",
    "    n = 1\n",
    "    if v2 > v1:\n",
    "        return ('NO')\n",
    "    \n",
    "        \n",
    "    while True:\n",
    "        k1,k2 = get_value(x1,n,v1) , get_value(x2,n,v2)   # This is the formular for Arithmetic Progression\n",
    "                \n",
    "        if k1 == k2:\n",
    "            return 'YES'\n",
    "\n",
    "        if k1 > k2:\n",
    "                return 'NO'\n",
    "        n += 1\n",
    "\n",
    "def kangaroo_3(x1, v1, x2, v2):\n",
    "    \n",
    "    # x1 + n*v1 = x2 + n*v2, it implies that (x2 - x1) - (v1 - v2) must not have a remainder. \n",
    "    \n",
    "    num = x2 - x1\n",
    "    dem = v1 - v2\n",
    "    \n",
    "    if dem == 0:\n",
    "        return 'NO'\n",
    "    \n",
    "    if num%dem != 0 or num/dem < 0:\n",
    "        return 'NO'\n",
    "            \n",
    "    return 'YES' "
   ]
  },
  {
   "cell_type": "code",
   "execution_count": 58,
   "metadata": {},
   "outputs": [
    {
     "name": "stdout",
     "output_type": "stream",
     "text": [
      "YES\n",
      "YES\n",
      "NO\n"
     ]
    }
   ],
   "source": [
    "print(kangaroo_1(0, 3 ,4 ,2)) \n",
    "\n",
    "print(kangaroo_1(4, 2 ,0,3))  # Intercahnging the numbers above\n",
    " \n",
    "print(kangaroo_1(0,2,5,3))"
   ]
  },
  {
   "cell_type": "code",
   "execution_count": 59,
   "metadata": {},
   "outputs": [
    {
     "name": "stdout",
     "output_type": "stream",
     "text": [
      "YES\n",
      "YES\n",
      "NO\n"
     ]
    }
   ],
   "source": [
    "print(kangaroo_2(0, 3 ,4 ,2)) \n",
    "\n",
    "print(kangaroo_2(4, 2 ,0,3))  # Intercahnging the numbers above\n",
    " \n",
    "print(kangaroo_2(0,2,5,3))"
   ]
  },
  {
   "cell_type": "code",
   "execution_count": 60,
   "metadata": {},
   "outputs": [
    {
     "name": "stdout",
     "output_type": "stream",
     "text": [
      "YES\n",
      "YES\n",
      "NO\n"
     ]
    }
   ],
   "source": [
    "print(kangaroo_3(0, 3 ,4 ,2))\n",
    "print(kangaroo_3(4, 2 ,0,3))\n",
    "print(kangaroo_3(0,3,5,3))"
   ]
  },
  {
   "cell_type": "code",
   "execution_count": 61,
   "metadata": {},
   "outputs": [
    {
     "name": "stdout",
     "output_type": "stream",
     "text": [
      "4\n",
      "8\n",
      "16\n"
     ]
    },
    {
     "data": {
      "text/plain": [
       "3"
      ]
     },
     "execution_count": 61,
     "metadata": {},
     "output_type": "execute_result"
    }
   ],
   "source": [
    "def multiple(arr,n):       # I need a number 'n', such that every element in the array 'arr' is a factor of that number\n",
    "    for i in arr:\n",
    "        if n % i !=0:\n",
    "            return False\n",
    "    return True\n",
    "        \n",
    "\n",
    "def divisible(arr,n):  #I need a number 'n', such that 'n' is a factor of every element in the array 'arr'\n",
    "    for i in arr:\n",
    "        if i % n !=0:\n",
    "            return False\n",
    "    return Truhttp://localhost:8888/notebooks/Documents/AMMIS%20WORK/Git%20Hup%20Things/Certifications-and-some-solved-online-exercises/HackerRank_Exercises/Hacker%20Rank%20full%20Practice%20questions%20with%20solutions.ipynb#e\n",
    "\n",
    "def getTotalX(a, b): \n",
    "    count = 0\n",
    "    n = min(a)\n",
    "    while n <= max(b):\n",
    "        if multiple(a,n) and divisible (b,n):\n",
    "            count += 1\n",
    "            print(n)\n",
    "        n = n + min(a)\n",
    "          \n",
    "    return count\n",
    "\n",
    "\n",
    "import numpy as np\n",
    "a = np.array([2,4])\n",
    "b = np.array([16,32,96])\n",
    "\n",
    "getTotalX(a, b)"
   ]
  },
  {
   "cell_type": "code",
   "execution_count": null,
   "metadata": {},
   "outputs": [],
   "source": []
  }
 ],
 "metadata": {
  "kernelspec": {
   "display_name": "Python 3",
   "language": "python",
   "name": "python3"
  },
  "language_info": {
   "codemirror_mode": {
    "name": "ipython",
    "version": 3
   },
   "file_extension": ".py",
   "mimetype": "text/x-python",
   "name": "python",
   "nbconvert_exporter": "python",
   "pygments_lexer": "ipython3",
   "version": "3.7.3"
  }
 },
 "nbformat": 4,
 "nbformat_minor": 2
}
