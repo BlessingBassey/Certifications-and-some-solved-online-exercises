{
 "cells": [
  {
   "cell_type": "code",
   "execution_count": 72,
   "metadata": {},
   "outputs": [
    {
     "name": "stdout",
     "output_type": "stream",
     "text": [
      "This is the dictinary: {9: 1, 10: 4, 20: 3, 30: 1, 50: 1}\n",
      "------------------------------------------------------------\n",
      "This is are the pairs: [{9: 0}, {10: 2}, {20: 1}, {30: 0}, {50: 0}]\n",
      "------------------------------------------------------------\n",
      "This is are the pair_count: [0, 2, 1, 0, 0]\n"
     ]
    },
    {
     "data": {
      "text/plain": [
       "3"
      ]
     },
     "execution_count": 72,
     "metadata": {},
     "output_type": "execute_result"
    }
   ],
   "source": [
    "#John works at a clothing store. He has a large pile of socks that he must pair by color for sale. \n",
    "#Given an array of integers representing the color of each sock,\n",
    "#determine how many pairs of socks with matching colors there are.\n",
    "\n",
    "def sockMerchant(n, ar):\n",
    "    n = len(ar)\n",
    "    dic = {i:ar.count(i) for i in ar}\n",
    "    pair = []\n",
    "    pair_count = []\n",
    "    for i,j in dic.items():\n",
    "        count = j//2\n",
    "        pair.append({i:count})\n",
    "        pair_count.append(count)\n",
    "        \n",
    "    print('This is the dictinary:',dic)\n",
    "    print(\"------------------------------------------------------------\")\n",
    "    print('This is are the pairs:',pair)\n",
    "    print(\"------------------------------------------------------------\")\n",
    "    print('This is are the pair_count:',pair_count)\n",
    "    return sum(pair_count)\n",
    "\n",
    "\n",
    "# Examples\n",
    "#ar = [1,2,1,2,1,3,2]\n",
    "ar = [9,10, 20, 20, 10, 10, 30, 50, 10, 20]\n",
    "sockMerchant(len(ar),ar)"
   ]
  }
 ],
 "metadata": {
  "kernelspec": {
   "display_name": "Python 3",
   "language": "python",
   "name": "python3"
  },
  "language_info": {
   "codemirror_mode": {
    "name": "ipython",
    "version": 3
   },
   "file_extension": ".py",
   "mimetype": "text/x-python",
   "name": "python",
   "nbconvert_exporter": "python",
   "pygments_lexer": "ipython3",
   "version": "3.7.3"
  }
 },
 "nbformat": 4,
 "nbformat_minor": 2
}
