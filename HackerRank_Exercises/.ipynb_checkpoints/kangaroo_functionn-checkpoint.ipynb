{
 "cells": [
  {
   "cell_type": "code",
   "execution_count": 2,
   "metadata": {},
   "outputs": [],
   "source": [
    "# This is the first approach\n",
    "\n",
    "'''You are choreographing a circus show with various animals. For one act, you are given two kangaroos on a number line ready to jump in the positive direction (i.e, toward positive infinity).\n",
    "\n",
    "    The first kangaroo starts at location x1 and moves at a rate v1 of meters per jump.\n",
    "    The first kangaroo starts at location x2 and moves at a rate v2 of meters per jump.\n",
    "    \n",
    "You have to figure out a way to get both kangaroos at the same location at the same time as part of the show. If it is possible, return YES, otherwise return NO.'''\n",
    "\n",
    "# method 1\n",
    "def kangaroo_1(x1, v1, x2, v2):\n",
    "    \n",
    "    if x1 > x2:\n",
    "        x1, v1, x2, v2 = x2, v2, x1, v1   # What if the values are interchanged, will it still give the same answer?\n",
    "        \n",
    "    if x1 < x2 and v2 > v1:\n",
    "        return ('NO')\n",
    "    \n",
    "    while True:\n",
    "        if x1 == x2:\n",
    "            return 'YES'\n",
    "        x1 += v1\n",
    "        x2 += v2\n",
    "        \n",
    "        if x1 > x2:\n",
    "            return 'NO'\n",
    "\n",
    "# method 2\n",
    "def kangaroo_2(x1, v1, x2, v2):\n",
    "    def get_value(a,n,d):\n",
    "        return a + (n - 1)*d\n",
    "    \n",
    "    if x1 > x2:\n",
    "        x1, v1, x2, v2 = x2, v2, x1, v1\n",
    "    \n",
    "    n = 1\n",
    "    if v2 > v1:\n",
    "        return ('NO')\n",
    "    \n",
    "        \n",
    "    while True:\n",
    "        k1,k2 = get_value(x1,n,v1) , get_value(x2,n,v2)   # This is the formular for Arithmetic Progression\n",
    "                \n",
    "        if k1 == k2:\n",
    "            return 'YES'\n",
    "\n",
    "        if k1 > k2:\n",
    "                return 'NO'\n",
    "        n += 1\n",
    "\n",
    "        \n",
    "# method 3\n",
    "def kangaroo_3(x1, v1, x2, v2):\n",
    "    \n",
    "    # x1 + n*v1 = x2 + n*v2, it implies that (x2 - x1) - (v1 - v2) must not have a remainder. \n",
    "    \n",
    "    num = x2 - x1\n",
    "    dem = v1 - v2\n",
    "    \n",
    "    if dem == 0:\n",
    "        return 'NO'\n",
    "    \n",
    "    if num%dem != 0 or num/dem < 0:\n",
    "        return 'NO'\n",
    "            \n",
    "    return 'YES' "
   ]
  },
  {
   "cell_type": "code",
   "execution_count": 3,
   "metadata": {},
   "outputs": [
    {
     "name": "stdout",
     "output_type": "stream",
     "text": [
      "YES\n",
      "YES\n",
      "NO\n"
     ]
    }
   ],
   "source": [
    "print(kangaroo_1(0, 3 ,4 ,2)) \n",
    "\n",
    "print(kangaroo_1(4, 2 ,0,3))  # Intercahnging the numbers above\n",
    " \n",
    "print(kangaroo_1(0,2,5,3))"
   ]
  },
  {
   "cell_type": "code",
   "execution_count": 4,
   "metadata": {},
   "outputs": [
    {
     "name": "stdout",
     "output_type": "stream",
     "text": [
      "YES\n",
      "YES\n",
      "NO\n"
     ]
    }
   ],
   "source": [
    "print(kangaroo_2(0, 3 ,4 ,2)) \n",
    "\n",
    "print(kangaroo_2(4, 2 ,0,3))  # Intercahnging the numbers above\n",
    " \n",
    "print(kangaroo_2(0,2,5,3))"
   ]
  },
  {
   "cell_type": "code",
   "execution_count": 5,
   "metadata": {},
   "outputs": [
    {
     "name": "stdout",
     "output_type": "stream",
     "text": [
      "YES\n",
      "YES\n",
      "NO\n"
     ]
    }
   ],
   "source": [
    "print(kangaroo_3(0, 3 ,4 ,2))\n",
    "print(kangaroo_3(4, 2 ,0,3))\n",
    "print(kangaroo_3(0,3,5,3))"
   ]
  },
  {
   "cell_type": "code",
   "execution_count": null,
   "metadata": {},
   "outputs": [],
   "source": []
  }
 ],
 "metadata": {
  "kernelspec": {
   "display_name": "Python 2",
   "language": "python",
   "name": "python2"
  },
  "language_info": {
   "codemirror_mode": {
    "name": "ipython",
    "version": 2
   },
   "file_extension": ".py",
   "mimetype": "text/x-python",
   "name": "python",
   "nbconvert_exporter": "python",
   "pygments_lexer": "ipython2",
   "version": "2.7.16"
  }
 },
 "nbformat": 4,
 "nbformat_minor": 2
}
