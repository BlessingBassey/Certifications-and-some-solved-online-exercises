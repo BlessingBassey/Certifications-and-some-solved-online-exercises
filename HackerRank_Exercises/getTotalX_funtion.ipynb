{
 "cells": [
  {
   "cell_type": "code",
   "execution_count": 44,
   "metadata": {},
   "outputs": [
    {
     "name": "stdout",
     "output_type": "stream",
     "text": [
      "4\n",
      "8\n",
      "16\n"
     ]
    },
    {
     "data": {
      "text/plain": [
       "3"
      ]
     },
     "execution_count": 44,
     "metadata": {},
     "output_type": "execute_result"
    }
   ],
   "source": [
    "def multiple(arr,n):       # I need a number 'n', such that every element in the array 'arr' is a factor of that number\n",
    "    for i in arr:\n",
    "        if n % i !=0:\n",
    "            return False\n",
    "    return True\n",
    "        \n",
    "\n",
    "def divisible(arr,n):  #I need a number 'n', such that 'n' is a factor of every element in the array 'arr'\n",
    "    for i in arr:\n",
    "        if i % n !=0:\n",
    "            return False\n",
    "    return True\n",
    "\n",
    "def getTotalX(a, b): \n",
    "    count = 0\n",
    "    n = min(a)\n",
    "    while n <= max(b):\n",
    "        if multiple(a,n) and divisible (b,n):\n",
    "            count += 1\n",
    "            print(n)\n",
    "        n = n + min(a)\n",
    "          \n",
    "    return count\n",
    "\n",
    "\n",
    "import numpy as np\n",
    "a = np.array([2,4])\n",
    "b = np.array([16,32,96])\n",
    "\n",
    "getTotalX(a, b)"
   ]
  },
  {
   "cell_type": "code",
   "execution_count": null,
   "metadata": {},
   "outputs": [],
   "source": []
  }
 ],
 "metadata": {
  "kernelspec": {
   "display_name": "Python 2",
   "language": "python",
   "name": "python2"
  },
  "language_info": {
   "codemirror_mode": {
    "name": "ipython",
    "version": 2
   },
   "file_extension": ".py",
   "mimetype": "text/x-python",
   "name": "python",
   "nbconvert_exporter": "python",
   "pygments_lexer": "ipython2",
   "version": "2.7.16"
  }
 },
 "nbformat": 4,
 "nbformat_minor": 2
}
