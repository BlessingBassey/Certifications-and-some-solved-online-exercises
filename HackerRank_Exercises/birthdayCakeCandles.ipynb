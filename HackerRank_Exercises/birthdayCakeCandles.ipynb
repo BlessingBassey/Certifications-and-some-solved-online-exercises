{
 "cells": [
  {
   "cell_type": "code",
   "execution_count": 100,
   "metadata": {},
   "outputs": [
    {
     "data": {
      "text/plain": [
       "2"
      ]
     },
     "execution_count": 100,
     "metadata": {},
     "output_type": "execute_result"
    }
   ],
   "source": [
    "#import numpy as np\n",
    "import numpy as np\n",
    "\n",
    "def birthdayCakeCandles(ar):\n",
    "    sorting = sorted(ar)\n",
    "    max_candle = sorting[-1]\n",
    "    max_candles = []\n",
    "    \n",
    "    for i in sorting:\n",
    "        if i == max_candle:\n",
    "            max_candles.append(i)\n",
    "    return len(max_candles)\n",
    "\n",
    "# This can be optizes as follows\n",
    "\n",
    "def birthdayCakeCandles2(ar):\n",
    "    max_candle = -1\n",
    "    max_candles = 0\n",
    "    for i in ar: \n",
    "        if i > max_candle:\n",
    "            max_candle = i\n",
    "            max_candles = 1\n",
    "        elif i == max_candle:\n",
    "            max_candles +=1\n",
    "    return max_candles\n",
    "\n",
    "# Example\n",
    "c = np.array([2,3,6,1,4,6,1,5])\n",
    "birthdayCakeCandles2(c)\n"
   ]
  },
  {
   "cell_type": "code",
   "execution_count": null,
   "metadata": {},
   "outputs": [],
   "source": []
  },
  {
   "cell_type": "code",
   "execution_count": null,
   "metadata": {},
   "outputs": [],
   "source": []
  }
 ],
 "metadata": {
  "kernelspec": {
   "display_name": "Python 3",
   "language": "python",
   "name": "python3"
  },
  "language_info": {
   "codemirror_mode": {
    "name": "ipython",
    "version": 3
   },
   "file_extension": ".py",
   "mimetype": "text/x-python",
   "name": "python",
   "nbconvert_exporter": "python",
   "pygments_lexer": "ipython3",
   "version": "3.7.3"
  }
 },
 "nbformat": 4,
 "nbformat_minor": 2
}
