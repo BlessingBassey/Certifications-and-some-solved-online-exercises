{
 "cells": [
  {
   "cell_type": "code",
   "execution_count": 3,
   "metadata": {},
   "outputs": [
    {
     "name": "stdout",
     "output_type": "stream",
     "text": [
      "[120, 60, 40, 30, 24]\n",
      "---------------------------------\n",
      "[2, 3, 6]\n"
     ]
    }
   ],
   "source": [
    "'''\n",
    "Given an array of integers, return a new array such that each element at index i of the new array is the product of all the numbers in the original array except the one at i.\n",
    "\n",
    "For example, if our input was [1, 2, 3, 4, 5], the expected output would be [120, 60, 40, 30, 24]. If our input was [3, 2, 1], the expected output would be [2, 3, 6].\n",
    "\n",
    "Follow-up: what if you can't use division?\n",
    "'''\n",
    "import numpy as np\n",
    "\n",
    "def mulSpecial(arr):\n",
    "    lisst = []\n",
    "    for j in range(len(arr)):\n",
    "        arr2 = np.delete(arr, j)   # deleting out the index of a specific element\n",
    "        result = np.prod(arr2)\n",
    "        lisst.append(result)\n",
    "    return lisst\n",
    "\n",
    "# Example\n",
    "arr1 = np.array([1,2,3,4,5])\n",
    "arr2 = np.array([3,2,1])\n",
    "print(mulSpecial(arr1))\n",
    "print(\"---------------------------------\")\n",
    "print(mulSpecial(arr2))"
   ]
  }
 ],
 "metadata": {
  "kernelspec": {
   "display_name": "Python 3",
   "language": "python",
   "name": "python3"
  },
  "language_info": {
   "codemirror_mode": {
    "name": "ipython",
    "version": 3
   },
   "file_extension": ".py",
   "mimetype": "text/x-python",
   "name": "python",
   "nbconvert_exporter": "python",
   "pygments_lexer": "ipython3",
   "version": "3.7.3"
  }
 },
 "nbformat": 4,
 "nbformat_minor": 2
}
