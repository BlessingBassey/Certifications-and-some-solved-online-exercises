{
 "cells": [
  {
   "cell_type": "code",
   "execution_count": 1,
   "metadata": {},
   "outputs": [
    {
     "name": "stdout",
     "output_type": "stream",
     "text": [
      "c would have to jump 3 times:\n",
      "---------------------------------------------------------------\n",
      "d would have to jump 6 times:\n"
     ]
    }
   ],
   "source": [
    "\"\"\"\n",
    "Emma is playing a new mobile game that starts with consecutively numbered clouds. \n",
    "Some of the clouds are thunderheads and others are cumulus. \n",
    "She can jump on any cumulus cloud having a number that is equal to the number of the \n",
    "current cloud plus $1$ or $2$ . She must avoid the thunderheads.\n",
    "Determine the minimum number of jumps it will take Emma to jump from her \n",
    "starting postion to the last cloud. It is always possible to win the game.\n",
    "\n",
    "\"\"\"\n",
    "def jumpingOnClouds(c):\n",
    "    jump = 0\n",
    "    count = 0\n",
    "    \n",
    "    while jump < len(c)-1:\n",
    "        if jump+2 < len(c) and c[jump+2] == 0:\n",
    "            jump+= 2\n",
    "        else:\n",
    "            jump+= 1\n",
    "        count += 1\n",
    "    return count\n",
    "\n",
    "# Examples\n",
    "c = [0,1,0,0,0,1,0]\n",
    "d = [0, 0, 1, 0, 0, 0, 0, 1, 0, 0]\n",
    "print(\"c would have to jump {} times:\".format(jumpingOnClouds(c))) \n",
    "print(\"---------------------------------------------------------------\")\n",
    "print(\"d would have to jump {} times:\".format(jumpingOnClouds(d)))"
   ]
  },
  {
   "cell_type": "code",
   "execution_count": null,
   "metadata": {},
   "outputs": [],
   "source": []
  }
 ],
 "metadata": {
  "kernelspec": {
   "display_name": "Python 3",
   "language": "python",
   "name": "python3"
  },
  "language_info": {
   "codemirror_mode": {
    "name": "ipython",
    "version": 3
   },
   "file_extension": ".py",
   "mimetype": "text/x-python",
   "name": "python",
   "nbconvert_exporter": "python",
   "pygments_lexer": "ipython3",
   "version": "3.7.3"
  }
 },
 "nbformat": 4,
 "nbformat_minor": 2
}
